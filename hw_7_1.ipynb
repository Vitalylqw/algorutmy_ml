{
 "cells": [
  {
   "cell_type": "markdown",
   "metadata": {},
   "source": [
    "Задание 1: К алгоритму kNN, реализованному на уроке, реализовать добавление весов для соседей в зависимости от номера соседа"
   ]
  },
  {
   "cell_type": "code",
   "execution_count": 170,
   "metadata": {},
   "outputs": [],
   "source": [
    "import numpy as np\n",
    "from sklearn import model_selection\n",
    "from sklearn.datasets import load_iris\n",
    "import matplotlib.pyplot as plt\n",
    "from matplotlib.colors import ListedColormap\n",
    "import pandas as pd"
   ]
  },
  {
   "cell_type": "code",
   "execution_count": 116,
   "metadata": {},
   "outputs": [],
   "source": [
    "X, y = load_iris(return_X_y=True)\n",
    "\n",
    "# Для наглядности возьмем только первые два признака (всего в датасете их 4)\n",
    "X = X[:, :2]"
   ]
  },
  {
   "cell_type": "code",
   "execution_count": 117,
   "metadata": {},
   "outputs": [],
   "source": [
    "X_train, X_test, y_train, y_test = model_selection.train_test_split(X, y, test_size=0.2, random_state=1)"
   ]
  },
  {
   "cell_type": "code",
   "execution_count": 118,
   "metadata": {},
   "outputs": [
    {
     "data": {
      "text/plain": [
       "<matplotlib.collections.PathCollection at 0x1cd501e8190>"
      ]
     },
     "execution_count": 118,
     "metadata": {},
     "output_type": "execute_result"
    },
    {
     "data": {
      "image/png": "[encoded data removed]",
      "text/plain": [
       "<Figure size 360x360 with 1 Axes>"
      ]
     },
     "metadata": {
      "needs_background": "light"
     },
     "output_type": "display_data"
    }
   ],
   "source": [
    "cmap = ListedColormap(['red', 'green', 'blue'])\n",
    "plt.figure(figsize=(5, 5))\n",
    "plt.scatter(X[:, 0], X[:, 1], c=y, cmap=cmap)"
   ]
  },
  {
   "cell_type": "code",
   "execution_count": 119,
   "metadata": {},
   "outputs": [],
   "source": [
    "# Добавление весов в  зависимости от номера соседа к качестве базы 0,9**i\n",
    "\n",
    "class Knn_w_num():\n",
    "    def __init__ (self):\n",
    "        self.x_train=None\n",
    "        self.y_train=None\n",
    "        self.x_test=None\n",
    "        self.k=None\n",
    "        self.answer = None\n",
    "        self.q=None\n",
    "        \n",
    "    def e_metrics(self,x1, x2):   \n",
    "\n",
    "        return np.sqrt(((x1-x2)**2).sum())  \n",
    "    \n",
    "    def predict(self,x_train, y_train, x_test, k,q=0.9):\n",
    "        self.x_train=x_train\n",
    "        self.y_train=y_train\n",
    "        self.x_test=x_test\n",
    "        self.k=k \n",
    "        self.q=q\n",
    "        \n",
    "        answers = []\n",
    "        for x in x_test:\n",
    "            test_distances = []\n",
    "\n",
    "            for i in range(len(x_train)):\n",
    "\n",
    "                # расчет расстояния от классифицируемого объекта до\n",
    "                # объекта обучающей выборки\n",
    "                distance = self.e_metrics(x, x_train[i])\n",
    "\n",
    "                # Записываем в список значение расстояния и ответа на объекте обучающей выборки\n",
    "                test_distances.append((distance, y_train[i]))\n",
    "\n",
    "            # создаем словарь со всеми возможными классами\n",
    "            classes = {class_item: 0 for class_item in set(y_train)}\n",
    "\n",
    "#             создадим список весов\n",
    "            w=[q**i for i in range(k)]\n",
    "            # Сортируем список и среди первых k элементов подсчитаем частоту появления разных классов           \n",
    "            for i,d in enumerate(sorted(test_distances)[0:k]):\n",
    "                classes[d[1]] += w[i]\n",
    "\n",
    "            \n",
    "            # Записываем в список ответов наиболее часто встречающийся класс\n",
    "            answers.append(sorted(classes, key=classes.get)[-1])\n",
    "        self.answer = answers\n",
    "        return answers\n",
    "    \n",
    "    def accuracy(self,y):\n",
    "        return (sum(self.answer == y) / len(y))"
   ]
  },
  {
   "cell_type": "code",
   "execution_count": null,
   "metadata": {},
   "outputs": [],
   "source": []
  },
  {
   "cell_type": "code",
   "execution_count": 140,
   "metadata": {},
   "outputs": [],
   "source": [
    "test = Knn_w_num()"
   ]
  },
  {
   "cell_type": "code",
   "execution_count": 141,
   "metadata": {},
   "outputs": [],
   "source": [
    "y_pred1 = test.predict(X_train, y_train, X_test, 5,q=0.95)"
   ]
  },
  {
   "cell_type": "code",
   "execution_count": 142,
   "metadata": {},
   "outputs": [
    {
     "data": {
      "text/plain": [
       "0.8666666666666667"
      ]
     },
     "execution_count": 142,
     "metadata": {},
     "output_type": "execute_result"
    }
   ],
   "source": [
    "test.accuracy(y_test)"
   ]
  },
  {
   "cell_type": "markdown",
   "metadata": {},
   "source": [
    "\n",
    "Задание 2: К алгоритму kNN, реализованному на уроке, реализовать добавление весов для соседей в зависимости от расстояния до соседа. Сравнить метрики качества и сложность разделяющей гиперплоскости. Сделать выводы."
   ]
  },
  {
   "cell_type": "code",
   "execution_count": 146,
   "metadata": {},
   "outputs": [],
   "source": [
    "# Добавление весов в  зависимости от растояния  𝑤(𝑑)=𝑞**𝑑 ,  𝑞∈(0,1) \n",
    "\n",
    "class Knn_w_distance():\n",
    "    def __init__ (self):\n",
    "        self.x_train=None\n",
    "        self.y_train=None\n",
    "        self.x_test=None\n",
    "        self.k=None\n",
    "        self.answer = None\n",
    "        self.q=None\n",
    "        \n",
    "    def e_metrics(self,x1, x2):   \n",
    "        return np.sqrt(((x1-x2)**2).sum())  \n",
    "    \n",
    "    def predict(self,x_train, y_train, x_test, k,q=0.9):\n",
    "        self.x_train=x_train\n",
    "        self.y_train=y_train\n",
    "        self.x_test=x_test\n",
    "        self.k=k \n",
    "        self.q=q\n",
    "        \n",
    "        answers = []\n",
    "        for x in x_test:\n",
    "            test_distances = []\n",
    "\n",
    "            for i in range(len(x_train)):\n",
    "\n",
    "                # расчет расстояния от классифицируемого объекта до\n",
    "                # объекта обучающей выборки\n",
    "                distance = self.e_metrics(x, x_train[i])\n",
    "\n",
    "                # Записываем в список значение расстояния и ответа на объекте обучающей выборки\n",
    "                test_distances.append((distance, y_train[i]))\n",
    "\n",
    "            # создаем словарь со всеми возможными классами\n",
    "            classes = {class_item: 0 for class_item in set(y_train)}\n",
    "\n",
    "\n",
    "            # Сортируем список и среди первых k элементов подсчитаем частоту появления разных классов           \n",
    "            for d in sorted(test_distances)[0:k]:\n",
    "                classes[d[1]] += q**d[0]  \n",
    "            \n",
    "            # Записываем в список ответов наиболее часто встречающийся класс\n",
    "            answers.append(sorted(classes, key=classes.get)[-1])\n",
    "        self.answer = answers\n",
    "        return answers\n",
    "    \n",
    "    def accuracy(self,y):\n",
    "        return (sum(self.answer == y) / len(y))"
   ]
  },
  {
   "cell_type": "code",
   "execution_count": 192,
   "metadata": {},
   "outputs": [],
   "source": [
    "def testing_algoritms():\n",
    "    test2 = Knn_w_distance()\n",
    "    test1 = Knn_w_num()\n",
    "    results  = pd.DataFrame(columns=['k','q','num','dist'])\n",
    "    for i in [0.4,0.5,0.6,0.7,0.8,0.9]:\n",
    "        for j in range(2,31,2):\n",
    "            test1.predict(X_train, y_train, X_test, j,q=i)\n",
    "            test2.predict(X_train, y_train, X_test, j,q=i)\n",
    "            results.loc[len(results)]=[j,i,test1.accuracy(y_test),test2.accuracy(y_test)]\n",
    "    return results        "
   ]
  },
  {
   "cell_type": "code",
   "execution_count": 234,
   "metadata": {},
   "outputs": [],
   "source": [
    "def get_graph(X_train, y_train, k,model='num'):\n",
    "    cmap_light = ListedColormap(['#FFAAAA', '#AAFFAA','#00AAFF'])\n",
    "\n",
    "    h = .02\n",
    "\n",
    "    # Расчет пределов графика\n",
    "    x_min, x_max = X_train[:, 0].min() - 1, X_train[:, 0].max() + 1\n",
    "    y_min, y_max = X_train[:, 1].min() - 1, X_train[:, 1].max() + 1\n",
    "    xx, yy = np.meshgrid(np.arange(x_min, x_max, h), np.arange(y_min, y_max, h))\n",
    "\n",
    "    # Получим предсказания для всех точек\n",
    "    if model!='num':\n",
    "        t=Knn_w_distance()\n",
    "        Z = t.predict(X_train, y_train, np.c_[xx.ravel(), yy.ravel()], k)\n",
    "    else:\n",
    "        t=Knn_w_num()\n",
    "        Z = t.predict(X_train, y_train, np.c_[xx.ravel(), yy.ravel()], k)    \n",
    "\n",
    "    # Построим график\n",
    "    Z = np.array(Z).reshape(xx.shape)\n",
    "    plt.figure(figsize=(7,7))\n",
    "    plt.pcolormesh(xx, yy, Z, cmap=cmap_light)\n",
    "\n",
    "    # Добавим на график обучающую выборку\n",
    "    plt.scatter(X_train[:, 0], X_train[:, 1], c=y_train, cmap=cmap)\n",
    "    plt.xlim(xx.min(), xx.max())\n",
    "    plt.ylim(yy.min(), yy.max())\n",
    "    plt.title(f\"Трехклассовая kNN классификация при k = {k}\")\n",
    "    plt.show()"
   ]
  },
  {
   "cell_type": "code",
   "execution_count": 194,
   "metadata": {},
   "outputs": [],
   "source": [
    "res_test =  testing_algoritms()           \n",
    "            "
   ]
  },
  {
   "cell_type": "code",
   "execution_count": 212,
   "metadata": {},
   "outputs": [
    {
     "data": {
      "text/html": [
       "<div>\n",
       "<style scoped>\n",
       "    .dataframe tbody tr th:only-of-type {\n",
       "        vertical-align: middle;\n",
       "    }\n",
       "\n",
       "    .dataframe tbody tr th {\n",
       "        vertical-align: top;\n",
       "    }\n",
       "\n",
       "    .dataframe thead th {\n",
       "        text-align: right;\n",
       "    }\n",
       "</style>\n",
       "<table border=\"1\" class=\"dataframe\">\n",
       "  <thead>\n",
       "    <tr style=\"text-align: right;\">\n",
       "      <th></th>\n",
       "      <th>k</th>\n",
       "      <th>q</th>\n",
       "      <th>num</th>\n",
       "      <th>dist</th>\n",
       "    </tr>\n",
       "  </thead>\n",
       "  <tbody>\n",
       "    <tr>\n",
       "      <th>66</th>\n",
       "      <td>14.0</td>\n",
       "      <td>0.8</td>\n",
       "      <td>0.866667</td>\n",
       "      <td>0.833333</td>\n",
       "    </tr>\n",
       "    <tr>\n",
       "      <th>67</th>\n",
       "      <td>16.0</td>\n",
       "      <td>0.8</td>\n",
       "      <td>0.866667</td>\n",
       "      <td>0.833333</td>\n",
       "    </tr>\n",
       "    <tr>\n",
       "      <th>69</th>\n",
       "      <td>20.0</td>\n",
       "      <td>0.8</td>\n",
       "      <td>0.866667</td>\n",
       "      <td>0.833333</td>\n",
       "    </tr>\n",
       "    <tr>\n",
       "      <th>73</th>\n",
       "      <td>28.0</td>\n",
       "      <td>0.8</td>\n",
       "      <td>0.866667</td>\n",
       "      <td>0.833333</td>\n",
       "    </tr>\n",
       "    <tr>\n",
       "      <th>74</th>\n",
       "      <td>30.0</td>\n",
       "      <td>0.8</td>\n",
       "      <td>0.866667</td>\n",
       "      <td>0.833333</td>\n",
       "    </tr>\n",
       "    <tr>\n",
       "      <th>79</th>\n",
       "      <td>10.0</td>\n",
       "      <td>0.9</td>\n",
       "      <td>0.866667</td>\n",
       "      <td>0.833333</td>\n",
       "    </tr>\n",
       "    <tr>\n",
       "      <th>81</th>\n",
       "      <td>14.0</td>\n",
       "      <td>0.9</td>\n",
       "      <td>0.866667</td>\n",
       "      <td>0.833333</td>\n",
       "    </tr>\n",
       "    <tr>\n",
       "      <th>82</th>\n",
       "      <td>16.0</td>\n",
       "      <td>0.9</td>\n",
       "      <td>0.866667</td>\n",
       "      <td>0.833333</td>\n",
       "    </tr>\n",
       "    <tr>\n",
       "      <th>84</th>\n",
       "      <td>20.0</td>\n",
       "      <td>0.9</td>\n",
       "      <td>0.866667</td>\n",
       "      <td>0.833333</td>\n",
       "    </tr>\n",
       "    <tr>\n",
       "      <th>88</th>\n",
       "      <td>28.0</td>\n",
       "      <td>0.9</td>\n",
       "      <td>0.866667</td>\n",
       "      <td>0.833333</td>\n",
       "    </tr>\n",
       "    <tr>\n",
       "      <th>89</th>\n",
       "      <td>30.0</td>\n",
       "      <td>0.9</td>\n",
       "      <td>0.866667</td>\n",
       "      <td>0.833333</td>\n",
       "    </tr>\n",
       "    <tr>\n",
       "      <th>65</th>\n",
       "      <td>12.0</td>\n",
       "      <td>0.8</td>\n",
       "      <td>0.866667</td>\n",
       "      <td>0.800000</td>\n",
       "    </tr>\n",
       "    <tr>\n",
       "      <th>68</th>\n",
       "      <td>18.0</td>\n",
       "      <td>0.8</td>\n",
       "      <td>0.866667</td>\n",
       "      <td>0.800000</td>\n",
       "    </tr>\n",
       "    <tr>\n",
       "      <th>70</th>\n",
       "      <td>22.0</td>\n",
       "      <td>0.8</td>\n",
       "      <td>0.866667</td>\n",
       "      <td>0.800000</td>\n",
       "    </tr>\n",
       "    <tr>\n",
       "      <th>71</th>\n",
       "      <td>24.0</td>\n",
       "      <td>0.8</td>\n",
       "      <td>0.866667</td>\n",
       "      <td>0.800000</td>\n",
       "    </tr>\n",
       "    <tr>\n",
       "      <th>72</th>\n",
       "      <td>26.0</td>\n",
       "      <td>0.8</td>\n",
       "      <td>0.866667</td>\n",
       "      <td>0.800000</td>\n",
       "    </tr>\n",
       "    <tr>\n",
       "      <th>80</th>\n",
       "      <td>12.0</td>\n",
       "      <td>0.9</td>\n",
       "      <td>0.866667</td>\n",
       "      <td>0.800000</td>\n",
       "    </tr>\n",
       "    <tr>\n",
       "      <th>83</th>\n",
       "      <td>18.0</td>\n",
       "      <td>0.9</td>\n",
       "      <td>0.866667</td>\n",
       "      <td>0.800000</td>\n",
       "    </tr>\n",
       "    <tr>\n",
       "      <th>86</th>\n",
       "      <td>24.0</td>\n",
       "      <td>0.9</td>\n",
       "      <td>0.866667</td>\n",
       "      <td>0.800000</td>\n",
       "    </tr>\n",
       "    <tr>\n",
       "      <th>87</th>\n",
       "      <td>26.0</td>\n",
       "      <td>0.9</td>\n",
       "      <td>0.866667</td>\n",
       "      <td>0.800000</td>\n",
       "    </tr>\n",
       "    <tr>\n",
       "      <th>62</th>\n",
       "      <td>6.0</td>\n",
       "      <td>0.8</td>\n",
       "      <td>0.833333</td>\n",
       "      <td>0.833333</td>\n",
       "    </tr>\n",
       "    <tr>\n",
       "      <th>64</th>\n",
       "      <td>10.0</td>\n",
       "      <td>0.8</td>\n",
       "      <td>0.833333</td>\n",
       "      <td>0.833333</td>\n",
       "    </tr>\n",
       "    <tr>\n",
       "      <th>77</th>\n",
       "      <td>6.0</td>\n",
       "      <td>0.9</td>\n",
       "      <td>0.833333</td>\n",
       "      <td>0.833333</td>\n",
       "    </tr>\n",
       "    <tr>\n",
       "      <th>85</th>\n",
       "      <td>22.0</td>\n",
       "      <td>0.9</td>\n",
       "      <td>0.833333</td>\n",
       "      <td>0.800000</td>\n",
       "    </tr>\n",
       "    <tr>\n",
       "      <th>63</th>\n",
       "      <td>8.0</td>\n",
       "      <td>0.8</td>\n",
       "      <td>0.800000</td>\n",
       "      <td>0.800000</td>\n",
       "    </tr>\n",
       "  </tbody>\n",
       "</table>\n",
       "</div>"
      ],
      "text/plain": [
       "       k    q       num      dist\n",
       "66  14.0  0.8  0.866667  0.833333\n",
       "67  16.0  0.8  0.866667  0.833333\n",
       "69  20.0  0.8  0.866667  0.833333\n",
       "73  28.0  0.8  0.866667  0.833333\n",
       "74  30.0  0.8  0.866667  0.833333\n",
       "79  10.0  0.9  0.866667  0.833333\n",
       "81  14.0  0.9  0.866667  0.833333\n",
       "82  16.0  0.9  0.866667  0.833333\n",
       "84  20.0  0.9  0.866667  0.833333\n",
       "88  28.0  0.9  0.866667  0.833333\n",
       "89  30.0  0.9  0.866667  0.833333\n",
       "65  12.0  0.8  0.866667  0.800000\n",
       "68  18.0  0.8  0.866667  0.800000\n",
       "70  22.0  0.8  0.866667  0.800000\n",
       "71  24.0  0.8  0.866667  0.800000\n",
       "72  26.0  0.8  0.866667  0.800000\n",
       "80  12.0  0.9  0.866667  0.800000\n",
       "83  18.0  0.9  0.866667  0.800000\n",
       "86  24.0  0.9  0.866667  0.800000\n",
       "87  26.0  0.9  0.866667  0.800000\n",
       "62   6.0  0.8  0.833333  0.833333\n",
       "64  10.0  0.8  0.833333  0.833333\n",
       "77   6.0  0.9  0.833333  0.833333\n",
       "85  22.0  0.9  0.833333  0.800000\n",
       "63   8.0  0.8  0.800000  0.800000"
      ]
     },
     "execution_count": 212,
     "metadata": {},
     "output_type": "execute_result"
    }
   ],
   "source": [
    "res_test.sort_values(by=['num','dist'],ascending=False).head(25)"
   ]
  },
  {
   "cell_type": "code",
   "execution_count": 215,
   "metadata": {},
   "outputs": [
    {
     "data": {
      "text/html": [
       "<div>\n",
       "<style scoped>\n",
       "    .dataframe tbody tr th:only-of-type {\n",
       "        vertical-align: middle;\n",
       "    }\n",
       "\n",
       "    .dataframe tbody tr th {\n",
       "        vertical-align: top;\n",
       "    }\n",
       "\n",
       "    .dataframe thead th {\n",
       "        text-align: right;\n",
       "    }\n",
       "</style>\n",
       "<table border=\"1\" class=\"dataframe\">\n",
       "  <thead>\n",
       "    <tr style=\"text-align: right;\">\n",
       "      <th></th>\n",
       "      <th>k</th>\n",
       "      <th>q</th>\n",
       "      <th>num</th>\n",
       "      <th>dist</th>\n",
       "    </tr>\n",
       "  </thead>\n",
       "  <tbody>\n",
       "    <tr>\n",
       "      <th>66</th>\n",
       "      <td>14.0</td>\n",
       "      <td>0.8</td>\n",
       "      <td>0.866667</td>\n",
       "      <td>0.833333</td>\n",
       "    </tr>\n",
       "    <tr>\n",
       "      <th>67</th>\n",
       "      <td>16.0</td>\n",
       "      <td>0.8</td>\n",
       "      <td>0.866667</td>\n",
       "      <td>0.833333</td>\n",
       "    </tr>\n",
       "    <tr>\n",
       "      <th>69</th>\n",
       "      <td>20.0</td>\n",
       "      <td>0.8</td>\n",
       "      <td>0.866667</td>\n",
       "      <td>0.833333</td>\n",
       "    </tr>\n",
       "    <tr>\n",
       "      <th>73</th>\n",
       "      <td>28.0</td>\n",
       "      <td>0.8</td>\n",
       "      <td>0.866667</td>\n",
       "      <td>0.833333</td>\n",
       "    </tr>\n",
       "    <tr>\n",
       "      <th>74</th>\n",
       "      <td>30.0</td>\n",
       "      <td>0.8</td>\n",
       "      <td>0.866667</td>\n",
       "      <td>0.833333</td>\n",
       "    </tr>\n",
       "    <tr>\n",
       "      <th>79</th>\n",
       "      <td>10.0</td>\n",
       "      <td>0.9</td>\n",
       "      <td>0.866667</td>\n",
       "      <td>0.833333</td>\n",
       "    </tr>\n",
       "    <tr>\n",
       "      <th>81</th>\n",
       "      <td>14.0</td>\n",
       "      <td>0.9</td>\n",
       "      <td>0.866667</td>\n",
       "      <td>0.833333</td>\n",
       "    </tr>\n",
       "    <tr>\n",
       "      <th>82</th>\n",
       "      <td>16.0</td>\n",
       "      <td>0.9</td>\n",
       "      <td>0.866667</td>\n",
       "      <td>0.833333</td>\n",
       "    </tr>\n",
       "    <tr>\n",
       "      <th>84</th>\n",
       "      <td>20.0</td>\n",
       "      <td>0.9</td>\n",
       "      <td>0.866667</td>\n",
       "      <td>0.833333</td>\n",
       "    </tr>\n",
       "    <tr>\n",
       "      <th>88</th>\n",
       "      <td>28.0</td>\n",
       "      <td>0.9</td>\n",
       "      <td>0.866667</td>\n",
       "      <td>0.833333</td>\n",
       "    </tr>\n",
       "    <tr>\n",
       "      <th>89</th>\n",
       "      <td>30.0</td>\n",
       "      <td>0.9</td>\n",
       "      <td>0.866667</td>\n",
       "      <td>0.833333</td>\n",
       "    </tr>\n",
       "    <tr>\n",
       "      <th>62</th>\n",
       "      <td>6.0</td>\n",
       "      <td>0.8</td>\n",
       "      <td>0.833333</td>\n",
       "      <td>0.833333</td>\n",
       "    </tr>\n",
       "    <tr>\n",
       "      <th>64</th>\n",
       "      <td>10.0</td>\n",
       "      <td>0.8</td>\n",
       "      <td>0.833333</td>\n",
       "      <td>0.833333</td>\n",
       "    </tr>\n",
       "    <tr>\n",
       "      <th>77</th>\n",
       "      <td>6.0</td>\n",
       "      <td>0.9</td>\n",
       "      <td>0.833333</td>\n",
       "      <td>0.833333</td>\n",
       "    </tr>\n",
       "    <tr>\n",
       "      <th>49</th>\n",
       "      <td>10.0</td>\n",
       "      <td>0.7</td>\n",
       "      <td>0.766667</td>\n",
       "      <td>0.833333</td>\n",
       "    </tr>\n",
       "    <tr>\n",
       "      <th>51</th>\n",
       "      <td>14.0</td>\n",
       "      <td>0.7</td>\n",
       "      <td>0.766667</td>\n",
       "      <td>0.833333</td>\n",
       "    </tr>\n",
       "    <tr>\n",
       "      <th>52</th>\n",
       "      <td>16.0</td>\n",
       "      <td>0.7</td>\n",
       "      <td>0.766667</td>\n",
       "      <td>0.833333</td>\n",
       "    </tr>\n",
       "    <tr>\n",
       "      <th>54</th>\n",
       "      <td>20.0</td>\n",
       "      <td>0.7</td>\n",
       "      <td>0.766667</td>\n",
       "      <td>0.833333</td>\n",
       "    </tr>\n",
       "    <tr>\n",
       "      <th>58</th>\n",
       "      <td>28.0</td>\n",
       "      <td>0.7</td>\n",
       "      <td>0.766667</td>\n",
       "      <td>0.833333</td>\n",
       "    </tr>\n",
       "    <tr>\n",
       "      <th>59</th>\n",
       "      <td>30.0</td>\n",
       "      <td>0.7</td>\n",
       "      <td>0.766667</td>\n",
       "      <td>0.833333</td>\n",
       "    </tr>\n",
       "    <tr>\n",
       "      <th>31</th>\n",
       "      <td>4.0</td>\n",
       "      <td>0.6</td>\n",
       "      <td>0.733333</td>\n",
       "      <td>0.833333</td>\n",
       "    </tr>\n",
       "    <tr>\n",
       "      <th>32</th>\n",
       "      <td>6.0</td>\n",
       "      <td>0.6</td>\n",
       "      <td>0.733333</td>\n",
       "      <td>0.833333</td>\n",
       "    </tr>\n",
       "    <tr>\n",
       "      <th>34</th>\n",
       "      <td>10.0</td>\n",
       "      <td>0.6</td>\n",
       "      <td>0.733333</td>\n",
       "      <td>0.833333</td>\n",
       "    </tr>\n",
       "    <tr>\n",
       "      <th>36</th>\n",
       "      <td>14.0</td>\n",
       "      <td>0.6</td>\n",
       "      <td>0.733333</td>\n",
       "      <td>0.833333</td>\n",
       "    </tr>\n",
       "    <tr>\n",
       "      <th>37</th>\n",
       "      <td>16.0</td>\n",
       "      <td>0.6</td>\n",
       "      <td>0.733333</td>\n",
       "      <td>0.833333</td>\n",
       "    </tr>\n",
       "  </tbody>\n",
       "</table>\n",
       "</div>"
      ],
      "text/plain": [
       "       k    q       num      dist\n",
       "66  14.0  0.8  0.866667  0.833333\n",
       "67  16.0  0.8  0.866667  0.833333\n",
       "69  20.0  0.8  0.866667  0.833333\n",
       "73  28.0  0.8  0.866667  0.833333\n",
       "74  30.0  0.8  0.866667  0.833333\n",
       "79  10.0  0.9  0.866667  0.833333\n",
       "81  14.0  0.9  0.866667  0.833333\n",
       "82  16.0  0.9  0.866667  0.833333\n",
       "84  20.0  0.9  0.866667  0.833333\n",
       "88  28.0  0.9  0.866667  0.833333\n",
       "89  30.0  0.9  0.866667  0.833333\n",
       "62   6.0  0.8  0.833333  0.833333\n",
       "64  10.0  0.8  0.833333  0.833333\n",
       "77   6.0  0.9  0.833333  0.833333\n",
       "49  10.0  0.7  0.766667  0.833333\n",
       "51  14.0  0.7  0.766667  0.833333\n",
       "52  16.0  0.7  0.766667  0.833333\n",
       "54  20.0  0.7  0.766667  0.833333\n",
       "58  28.0  0.7  0.766667  0.833333\n",
       "59  30.0  0.7  0.766667  0.833333\n",
       "31   4.0  0.6  0.733333  0.833333\n",
       "32   6.0  0.6  0.733333  0.833333\n",
       "34  10.0  0.6  0.733333  0.833333\n",
       "36  14.0  0.6  0.733333  0.833333\n",
       "37  16.0  0.6  0.733333  0.833333"
      ]
     },
     "execution_count": 215,
     "metadata": {},
     "output_type": "execute_result"
    }
   ],
   "source": [
    "res_test.sort_values(by=['dist','num'],ascending=False).head(25)"
   ]
  },
  {
   "cell_type": "code",
   "execution_count": 229,
   "metadata": {},
   "outputs": [
    {
     "data": {
      "text/plain": [
       "<matplotlib.legend.Legend at 0x1cd580321c0>"
      ]
     },
     "execution_count": 229,
     "metadata": {},
     "output_type": "execute_result"
    },
    {
     "data": {
      "image/png": "[encoded data removed]",
      "text/plain": [
       "<Figure size 864x648 with 1 Axes>"
      ]
     },
     "metadata": {
      "needs_background": "light"
     },
     "output_type": "display_data"
    }
   ],
   "source": [
    "# Максимальные значения метрик при разных q\n",
    "plt.figure(figsize=(12, 9))\n",
    "plt.grid()\n",
    "plt.plot(res_test.groupby(by=['k']).max().index,res_test.groupby(by=['k']).max()['num'],label = 'num')\n",
    "plt.plot(res_test.groupby(by=['k']).max().index,res_test.groupby(by=['k']).max()['dist'],label = 'dist')\n",
    "plt.xlabel('k')\n",
    "plt.ylabel('accuracy')\n",
    "plt.legend()"
   ]
  },
  {
   "cell_type": "code",
   "execution_count": 231,
   "metadata": {},
   "outputs": [
    {
     "data": {
      "text/plain": [
       "<matplotlib.legend.Legend at 0x1cd575e3ee0>"
      ]
     },
     "execution_count": 231,
     "metadata": {},
     "output_type": "execute_result"
    },
    {
     "data": {
      "image/png": "[encoded data removed]",
      "text/plain": [
       "<Figure size 864x648 with 1 Axes>"
      ]
     },
     "metadata": {
      "needs_background": "light"
     },
     "output_type": "display_data"
    }
   ],
   "source": [
    "# Максимальные значения метрик при заных k\n",
    "plt.figure(figsize=(12, 9))\n",
    "plt.grid()\n",
    "plt.plot(res_test.groupby(by=['q']).max().index,res_test.groupby(by=['q']).max()['num'],label = 'num')\n",
    "plt.plot(res_test.groupby(by=['q']).max().index,res_test.groupby(by=['q']).max()['dist'],label = 'dist')\n",
    "plt.xlabel('q')\n",
    "plt.ylabel('accuracy')\n",
    "plt.legend()"
   ]
  },
  {
   "cell_type": "code",
   "execution_count": 235,
   "metadata": {},
   "outputs": [
    {
     "data": {
      "image/png": "[encoded data removed]",
      "text/plain": [
       "<Figure size 504x504 with 1 Axes>"
      ]
     },
     "metadata": {
      "needs_background": "light"
     },
     "output_type": "display_data"
    }
   ],
   "source": [
    "get_graph(X_train, y_train, 10,model='num')"
   ]
  },
  {
   "cell_type": "code",
   "execution_count": 236,
   "metadata": {},
   "outputs": [
    {
     "data": {
      "image/png": "[encoded data removed]",
      "text/plain": [
       "<Figure size 504x504 with 1 Axes>"
      ]
     },
     "metadata": {
      "needs_background": "light"
     },
     "output_type": "display_data"
    }
   ],
   "source": [
    "get_graph(X_train, y_train, 5,model='dist')"
   ]
  },
  {
   "cell_type": "markdown",
   "metadata": {},
   "source": [
    "Модель с использованием весов по номеру соседа мне показалась проще и  качесмтво предсказаний на тней выше"
   ]
  },
  {
   "cell_type": "markdown",
   "metadata": {},
   "source": [
    "Задание 3: Настроить оптимальное значение числа соседей для моделей из п.1 и п.2, сделать выводы."
   ]
  },
  {
   "cell_type": "markdown",
   "metadata": {},
   "source": [
    "Как видно из графикоф оптимальное минимальное значение параметров\n",
    "k и q для модели с весами в зщависимости от номера сосдеа составляет:\n",
    "\n",
    "q = 0.8\n",
    "\n",
    "k = 10"
   ]
  },
  {
   "cell_type": "markdown",
   "metadata": {},
   "source": [
    "для модели с весами в зависимости от растояния :\n",
    "\n",
    "q = не вдияет\n",
    "\n",
    "k = 4"
   ]
  },
  {
   "cell_type": "code",
   "execution_count": null,
   "metadata": {},
   "outputs": [],
   "source": []
  }
 ],
 "metadata": {
  "kernelspec": {
   "display_name": "Python 3",
   "language": "python",
   "name": "python3"
  },
  "language_info": {
   "codemirror_mode": {
    "name": "ipython",
    "version": 3
   },
   "file_extension": ".py",
   "mimetype": "text/x-python",
   "name": "python",
   "nbconvert_exporter": "python",
   "pygments_lexer": "ipython3",
   "version": "3.8.3"
  }
 },
 "nbformat": 4,
 "nbformat_minor": 4
}
