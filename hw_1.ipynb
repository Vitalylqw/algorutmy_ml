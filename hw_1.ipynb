{
 "cells": [
  {
   "cell_type": "markdown",
   "metadata": {},
   "source": [
    "Домашнее задание к 1 уроку"
   ]
  },
  {
   "cell_type": "markdown",
   "metadata": {},
   "source": [
    "Формирование данных"
   ]
  },
  {
   "cell_type": "code",
   "execution_count": 1,
   "metadata": {},
   "outputs": [],
   "source": [
    "import numpy as np\n",
    "import matplotlib.pyplot as plt"
   ]
  },
  {
   "cell_type": "code",
   "execution_count": 30,
   "metadata": {},
   "outputs": [],
   "source": [
    "# Пусть имеем 6 наблюдений по три признака и соответсвенно 6 реультататов\n",
    "x1 = [1,3,3]\n",
    "y1 =4\n",
    "x2 = [2,4,8]\n",
    "y2 = 6\n",
    "x3 = [3,5,8]\n",
    "y3 = 7\n",
    "x4 = [1,2,3]\n",
    "y4 =3\n",
    "x5 = [0,2,1]\n",
    "y5 = 2\n",
    "x6 = [1,8,7]\n",
    "y6 =25"
   ]
  },
  {
   "cell_type": "code",
   "execution_count": 3,
   "metadata": {},
   "outputs": [
    {
     "data": {
      "text/plain": [
       "array([[1., 1., 3., 3.],\n",
       "       [1., 2., 4., 8.],\n",
       "       [1., 3., 5., 8.],\n",
       "       [1., 1., 2., 3.],\n",
       "       [1., 0., 2., 1.],\n",
       "       [1., 1., 8., 7.]])"
      ]
     },
     "execution_count": 3,
     "metadata": {},
     "output_type": "execute_result"
    }
   ],
   "source": [
    "# матрица признаком со вспосогательным столбцом\n",
    "X = np.array([x1,x2,x3,x4,x5,x6])\n",
    "a = np.ones((6,1))\n",
    "X = np.append(a,X,axis = 1)\n",
    "X"
   ]
  },
  {
   "cell_type": "code",
   "execution_count": 4,
   "metadata": {},
   "outputs": [
    {
     "data": {
      "text/plain": [
       "array([[ 4],\n",
       "       [ 6],\n",
       "       [ 7],\n",
       "       [ 3],\n",
       "       [ 2],\n",
       "       [25]])"
      ]
     },
     "execution_count": 4,
     "metadata": {},
     "output_type": "execute_result"
    }
   ],
   "source": [
    "Y = np.array([y1,y2,y3,y4,y5,y6]).reshape(-1,1)\n",
    "Y"
   ]
  },
  {
   "cell_type": "code",
   "execution_count": 5,
   "metadata": {},
   "outputs": [
    {
     "data": {
      "text/plain": [
       "array([[0.],\n",
       "       [0.],\n",
       "       [0.],\n",
       "       [0.]])"
      ]
     },
     "execution_count": 5,
     "metadata": {},
     "output_type": "execute_result"
    }
   ],
   "source": [
    "W=np.zeros((4,1))\n",
    "W"
   ]
  },
  {
   "cell_type": "code",
   "execution_count": 6,
   "metadata": {},
   "outputs": [],
   "source": [
    "def mae (Y,Y_pred):\n",
    "    return (np.abs(Y-Y_pred)).mean()"
   ]
  },
  {
   "cell_type": "code",
   "execution_count": 7,
   "metadata": {},
   "outputs": [],
   "source": [
    "def mse(Y,Y_pred):\n",
    "    return ((Y-Y_pred)**2).mean()"
   ]
  },
  {
   "cell_type": "code",
   "execution_count": 8,
   "metadata": {},
   "outputs": [
    {
     "data": {
      "text/plain": [
       "array([[1., 1., 3., 3.],\n",
       "       [1., 2., 4., 8.],\n",
       "       [1., 3., 5., 8.],\n",
       "       [1., 1., 2., 3.],\n",
       "       [1., 0., 2., 1.],\n",
       "       [1., 1., 8., 7.]])"
      ]
     },
     "execution_count": 8,
     "metadata": {},
     "output_type": "execute_result"
    }
   ],
   "source": [
    "X"
   ]
  },
  {
   "cell_type": "code",
   "execution_count": 9,
   "metadata": {},
   "outputs": [
    {
     "data": {
      "text/plain": [
       "(123.16666666666667, 7.833333333333333)"
      ]
     },
     "execution_count": 9,
     "metadata": {},
     "output_type": "execute_result"
    }
   ],
   "source": [
    "Y_pred=X@W\n",
    "mse(Y,Y_pred),mae(Y,Y_pred)"
   ]
  },
  {
   "cell_type": "code",
   "execution_count": 10,
   "metadata": {},
   "outputs": [
    {
     "data": {
      "text/plain": [
       "array([[-4.60608021],\n",
       "       [-2.91203105],\n",
       "       [ 3.83958603],\n",
       "       [ 0.1927555 ]])"
      ]
     },
     "execution_count": 10,
     "metadata": {},
     "output_type": "execute_result"
    }
   ],
   "source": [
    "# Попоробуем решить задачу аналитическим способом\n",
    "W = np.linalg.inv(X.T@X)@X.T@Y\n",
    "W\n"
   ]
  },
  {
   "cell_type": "code",
   "execution_count": 11,
   "metadata": {},
   "outputs": [
    {
     "data": {
      "text/plain": [
       "array([[ 4.57891332],\n",
       "       [ 6.4702458 ],\n",
       "       [ 7.39780078],\n",
       "       [ 0.7393273 ],\n",
       "       [ 3.26584735],\n",
       "       [24.54786546]])"
      ]
     },
     "execution_count": 11,
     "metadata": {},
     "output_type": "execute_result"
    }
   ],
   "source": [
    "Y_pred  = X@W\n",
    "Y_pred"
   ]
  },
  {
   "cell_type": "code",
   "execution_count": 12,
   "metadata": {},
   "outputs": [
    {
     "data": {
      "text/plain": [
       "(0.90426908150065, 1.2719922380336346)"
      ]
     },
     "execution_count": 12,
     "metadata": {},
     "output_type": "execute_result"
    }
   ],
   "source": [
    "# Посчитаем ошибки\n",
    "err_a = mae(Y,X@W)\n",
    "err_s = mse(Y,X@W)\n",
    "err_a,err_s\n"
   ]
  },
  {
   "cell_type": "code",
   "execution_count": 13,
   "metadata": {},
   "outputs": [
    {
     "data": {
      "text/plain": [
       "(array([[-4.60608021],\n",
       "        [-2.91203105],\n",
       "        [ 3.83958603],\n",
       "        [ 0.1927555 ]]),\n",
       " 1.2719922380336344)"
      ]
     },
     "execution_count": 13,
     "metadata": {},
     "output_type": "execute_result"
    }
   ],
   "source": [
    "# Проверим как считает функция solve\n",
    "W1 = np.linalg.solve(X.T@X,X.T@Y)\n",
    "W1,mse(Y,X@W1)"
   ]
  },
  {
   "cell_type": "markdown",
   "metadata": {},
   "source": [
    "Считает так же :)"
   ]
  },
  {
   "cell_type": "markdown",
   "metadata": {},
   "source": [
    "Напишем функцию градиентного спуска"
   ]
  },
  {
   "cell_type": "code",
   "execution_count": 14,
   "metadata": {},
   "outputs": [],
   "source": [
    "alpha = 0.0001\n",
    "Wr=np.zeros((4,1))\n",
    "count_iter = 10000"
   ]
  },
  {
   "cell_type": "code",
   "execution_count": 15,
   "metadata": {},
   "outputs": [],
   "source": [
    "def gradient_descent(alpha,Wr,X,Y,count_iter):\n",
    "    data=[]\n",
    "    number_obj,number_features = X.shape\n",
    "    for  i in range(count_iter):\n",
    "        Y_pred = X@Wr\n",
    "        data.append(mse(Y,Y_pred))\n",
    "        delta = Y_pred-Y\n",
    "        Wr-=alpha*2/number_obj*(X.T@delta)\n",
    "    return Wr,data\n",
    "    "
   ]
  },
  {
   "cell_type": "code",
   "execution_count": 16,
   "metadata": {},
   "outputs": [
    {
     "data": {
      "text/plain": [
       "(array([[-1.32779278],\n",
       "        [-1.89212883],\n",
       "        [ 3.62298537],\n",
       "        [-0.42691566]]),\n",
       " 3.882833891876842)"
      ]
     },
     "execution_count": 16,
     "metadata": {},
     "output_type": "execute_result"
    }
   ],
   "source": [
    "W_n ,data = gradient_descent(alpha,Wr,X,Y,count_iter)\n",
    "W_n,data[-1]"
   ]
  },
  {
   "cell_type": "markdown",
   "metadata": {},
   "source": [
    "Решение для данных показателей, получилось  - не очень!"
   ]
  },
  {
   "cell_type": "code",
   "execution_count": null,
   "metadata": {},
   "outputs": [],
   "source": []
  },
  {
   "cell_type": "code",
   "execution_count": 17,
   "metadata": {
    "scrolled": true
   },
   "outputs": [
    {
     "data": {
      "text/plain": [
       "<matplotlib.collections.PathCollection at 0x292c97542b0>"
      ]
     },
     "execution_count": 17,
     "metadata": {},
     "output_type": "execute_result"
    },
    {
     "data": {
      "image/png": "[encoded data removed]",
      "text/plain": [
       "<Figure size 432x288 with 1 Axes>"
      ]
     },
     "metadata": {
      "needs_background": "light"
     },
     "output_type": "display_data"
    }
   ],
   "source": [
    "plt.scatter([i for i in range(count_iter)],data)"
   ]
  },
  {
   "cell_type": "code",
   "execution_count": 18,
   "metadata": {},
   "outputs": [
    {
     "name": "stdout",
     "output_type": "stream",
     "text": [
      "----------------------------------------------------------------------------------------------------\n"
     ]
    }
   ],
   "source": [
    "print(100*'-')"
   ]
  },
  {
   "cell_type": "markdown",
   "metadata": {},
   "source": [
    "Задание 1. Подберите скорость обучения (alpha) и количество итераций для достижения минимальног значения функции потерь;"
   ]
  },
  {
   "cell_type": "markdown",
   "metadata": {},
   "source": [
    "Через визуализацию на графике"
   ]
  },
  {
   "cell_type": "markdown",
   "metadata": {},
   "source": [
    "Видно, что с alpha = 0.0001, 10 000 итераций мало. Попробуем 200 000"
   ]
  },
  {
   "cell_type": "code",
   "execution_count": 19,
   "metadata": {},
   "outputs": [
    {
     "data": {
      "text/plain": [
       "(array([[-4.60206533],\n",
       "        [-2.91739127],\n",
       "        [ 3.83778137],\n",
       "        [ 0.194932  ]]),\n",
       " 1.2719981024627327)"
      ]
     },
     "execution_count": 19,
     "metadata": {},
     "output_type": "execute_result"
    }
   ],
   "source": [
    "alpha = 0.0001\n",
    "Wr=np.zeros((4,1))\n",
    "count_iter = 200000\n",
    "W_n ,data = gradient_descent(alpha,Wr,X,Y,count_iter)\n",
    "W_n,data[-1]"
   ]
  },
  {
   "cell_type": "code",
   "execution_count": 20,
   "metadata": {},
   "outputs": [
    {
     "data": {
      "text/plain": [
       "<matplotlib.collections.PathCollection at 0x292c7680160>"
      ]
     },
     "execution_count": 20,
     "metadata": {},
     "output_type": "execute_result"
    },
    {
     "data": {
      "image/png": "[encoded data removed]",
      "text/plain": [
       "<Figure size 432x288 with 1 Axes>"
      ]
     },
     "metadata": {
      "needs_background": "light"
     },
     "output_type": "display_data"
    }
   ],
   "source": [
    "plt.scatter([i for i in range(count_iter)],data)"
   ]
  },
  {
   "cell_type": "markdown",
   "metadata": {},
   "source": [
    "альфа 0,0001 и кол итераций 200 000 выидают нужный результат"
   ]
  },
  {
   "cell_type": "markdown",
   "metadata": {},
   "source": [
    "Сократим альфа до 0,01"
   ]
  },
  {
   "cell_type": "code",
   "execution_count": 21,
   "metadata": {},
   "outputs": [
    {
     "data": {
      "text/plain": [
       "(array([[-4.60608021],\n",
       "        [-2.91203105],\n",
       "        [ 3.83958603],\n",
       "        [ 0.1927555 ]]),\n",
       " 1.271992238033635)"
      ]
     },
     "execution_count": 21,
     "metadata": {},
     "output_type": "execute_result"
    }
   ],
   "source": [
    "alpha = 0.01\n",
    "Wr=np.zeros((4,1))\n",
    "count_iter = 10000\n",
    "W_n ,data = gradient_descent(alpha,Wr,X,Y,count_iter)\n",
    "W_n,data[-1]"
   ]
  },
  {
   "cell_type": "code",
   "execution_count": 22,
   "metadata": {},
   "outputs": [
    {
     "data": {
      "text/plain": [
       "<matplotlib.collections.PathCollection at 0x292c96ee940>"
      ]
     },
     "execution_count": 22,
     "metadata": {},
     "output_type": "execute_result"
    },
    {
     "data": {
      "image/png": "[encoded data removed]",
      "text/plain": [
       "<Figure size 432x288 with 1 Axes>"
      ]
     },
     "metadata": {
      "needs_background": "light"
     },
     "output_type": "display_data"
    }
   ],
   "source": [
    "plt.scatter([i for i in range(count_iter)],data)"
   ]
  },
  {
   "cell_type": "markdown",
   "metadata": {},
   "source": [
    "Судя по графику при таком альфа достаточно 2000 итераций"
   ]
  },
  {
   "cell_type": "code",
   "execution_count": 23,
   "metadata": {},
   "outputs": [
    {
     "data": {
      "text/plain": [
       "(array([[-4.60209617],\n",
       "        [-2.91737132],\n",
       "        [ 3.83778999],\n",
       "        [ 0.19492494]]),\n",
       " 1.2719980677789067)"
      ]
     },
     "execution_count": 23,
     "metadata": {},
     "output_type": "execute_result"
    }
   ],
   "source": [
    "alpha = 0.01\n",
    "Wr=np.zeros((4,1))\n",
    "count_iter = 2000\n",
    "W_n ,data = gradient_descent(alpha,Wr,X,Y,count_iter)\n",
    "W_n,data[-1]\n"
   ]
  },
  {
   "cell_type": "code",
   "execution_count": 24,
   "metadata": {},
   "outputs": [
    {
     "data": {
      "text/plain": [
       "<matplotlib.collections.PathCollection at 0x292c9dd2bb0>"
      ]
     },
     "execution_count": 24,
     "metadata": {},
     "output_type": "execute_result"
    },
    {
     "data": {
      "image/png": "[encoded data removed]",
      "text/plain": [
       "<Figure size 432x288 with 1 Axes>"
      ]
     },
     "metadata": {
      "needs_background": "light"
     },
     "output_type": "display_data"
    }
   ],
   "source": [
    "plt.scatter([i for i in range(count_iter)],data)"
   ]
  },
  {
   "cell_type": "markdown",
   "metadata": {},
   "source": [
    "Таким образом оптимальный вариант альфа = 0,01 , количество шагов 2000"
   ]
  },
  {
   "cell_type": "code",
   "execution_count": 25,
   "metadata": {},
   "outputs": [
    {
     "name": "stdout",
     "output_type": "stream",
     "text": [
      "----------------------------------------------------------------------------------------------------\n"
     ]
    }
   ],
   "source": [
    "print(100*'-')"
   ]
  },
  {
   "cell_type": "markdown",
   "metadata": {},
   "source": [
    "Задача 2 В этом коде мы избавляемся от итераций по весам, но тут есть ошибка, исправьте ее:"
   ]
  },
  {
   "cell_type": "markdown",
   "metadata": {},
   "source": [
    "for i in range(1000):\n",
    "\n",
    "    y_pred = np.dot(W, X)\n",
    "    \n",
    "    err = calc_mse(y, y_pred)\n",
    "    \n",
    "    '''for ii in range(W.shape[0]):\n",
    "    \n",
    "    W[ii] -= alpha * (1/n * 2 * np.sum(X[ii] * (y_pred - y)))'''\n",
    "    \n",
    "    W -= (alpha * (1/n * 2 * np.sum(X * (y_pred - y))))\n",
    "    \n",
    "    if i % 100 == 0:\n",
    "    \n",
    "        print(i, W, err)"
   ]
  },
  {
   "cell_type": "markdown",
   "metadata": {},
   "source": [
    "Павильный ответ: W -= (alpha * (1/n * 2 * X.T @ (y_pred - y)))"
   ]
  },
  {
   "cell_type": "code",
   "execution_count": 26,
   "metadata": {},
   "outputs": [
    {
     "name": "stdout",
     "output_type": "stream",
     "text": [
      "----------------------------------------------------------------------------------------------------\n"
     ]
    }
   ],
   "source": [
    "print(100*'-')"
   ]
  },
  {
   "cell_type": "markdown",
   "metadata": {},
   "source": [
    "3 (опция). Реализовать один из критериев останова, перечисленный в методичке."
   ]
  },
  {
   "cell_type": "markdown",
   "metadata": {},
   "source": [
    "Поиск оптимвльных знгачений методом градиентного спуска. В качестве критерия возмемем минималную разнгость ошибки"
   ]
  },
  {
   "cell_type": "code",
   "execution_count": 27,
   "metadata": {},
   "outputs": [],
   "source": [
    "def gradient_descent_new(Wr,X,Y,alpha=0.01,count_iter=1000000,delta_error =0.0000000001 ):\n",
    "    mse_old = np.inf\n",
    "    data=[]\n",
    "    number_obj,number_features = X.shape\n",
    "    for  i in range(1,count_iter):\n",
    "        Y_pred = X@Wr\n",
    "        mse_n = mse(Y,Y_pred)\n",
    "        data.append(mse_n)\n",
    "        if mse_old-mse_n<delta_error:\n",
    "            return Wr,data\n",
    "        mse_old = mse_n\n",
    "        delta = Y_pred-Y\n",
    "        Wr-=alpha*2/number_obj*(X.T@delta)\n",
    "    return Wr,data\n",
    "    "
   ]
  },
  {
   "cell_type": "code",
   "execution_count": 28,
   "metadata": {},
   "outputs": [
    {
     "data": {
      "text/plain": [
       "(array([[-4.60587798],\n",
       "        [-2.91239489],\n",
       "        [ 3.83947192],\n",
       "        [ 0.19290785]]),\n",
       " 1.27199226086312)"
      ]
     },
     "execution_count": 28,
     "metadata": {},
     "output_type": "execute_result"
    }
   ],
   "source": [
    "Wr=np.zeros((4,1))\n",
    "W_n ,data = gradient_descent_new(Wr,X,Y)\n",
    "W_n,data[-1]"
   ]
  },
  {
   "cell_type": "code",
   "execution_count": 29,
   "metadata": {},
   "outputs": [
    {
     "data": {
      "text/plain": [
       "3262"
      ]
     },
     "execution_count": 29,
     "metadata": {},
     "output_type": "execute_result"
    }
   ],
   "source": [
    "len(data)"
   ]
  },
  {
   "cell_type": "code",
   "execution_count": null,
   "metadata": {},
   "outputs": [],
   "source": []
  }
 ],
 "metadata": {
  "kernelspec": {
   "display_name": "Python 3",
   "language": "python",
   "name": "python3"
  },
  "language_info": {
   "codemirror_mode": {
    "name": "ipython",
    "version": 3
   },
   "file_extension": ".py",
   "mimetype": "text/x-python",
   "name": "python",
   "nbconvert_exporter": "python",
   "pygments_lexer": "ipython3",
   "version": "3.8.3"
  }
 },
 "nbformat": 4,
 "nbformat_minor": 2
}
