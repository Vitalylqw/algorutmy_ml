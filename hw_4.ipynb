{
 "cells": [
  {
   "cell_type": "markdown",
   "metadata": {},
   "source": [
    "Скопируем код из метолдички для первого задания"
   ]
  },
  {
   "cell_type": "code",
   "execution_count": 1,
   "metadata": {},
   "outputs": [],
   "source": [
    "import matplotlib.pyplot as plt\n",
    "import random\n",
    "\n",
    "from matplotlib.colors import ListedColormap\n",
    "from sklearn import datasets\n",
    "\n",
    "import numpy as np\n"
   ]
  },
  {
   "cell_type": "code",
   "execution_count": 2,
   "metadata": {},
   "outputs": [],
   "source": [
    "# сгенерируем данные\n",
    "classification_data, classification_labels = datasets.make_classification(n_features = 2, n_informative = 2, \n",
    "                                                      n_classes = 2, n_redundant=0, \n",
    "                                                      n_clusters_per_class=1, flip_y =0.12, n_samples = 1100,random_state=5)"
   ]
  },
  {
   "cell_type": "code",
   "execution_count": 3,
   "metadata": {},
   "outputs": [],
   "source": [
    "# Разобьем выборку на обучающую и тестовую\n",
    "\n",
    "from sklearn import model_selection\n",
    "\n",
    "train_data, test_data, train_labels, test_labels = model_selection.train_test_split(classification_data, \n",
    "                                                                                     classification_labels, \n",
    "                                                                                     test_size = 0.3,\n",
    "                                                                                     random_state = 1)"
   ]
  },
  {
   "cell_type": "code",
   "execution_count": 4,
   "metadata": {},
   "outputs": [],
   "source": [
    "# Реализуем класс узла\n",
    "\n",
    "class Node:\n",
    "    \n",
    "    def __init__(self, index, t, true_branch, false_branch):\n",
    "        self.index = index  # индекс признака, по которому ведется сравнение с порогом в этом узле\n",
    "        self.t = t  # значение порога\n",
    "        self.true_branch = true_branch  # поддерево, удовлетворяющее условию в узле\n",
    "        self.false_branch = false_branch  # поддерево, не удовлетворяющее условию в узле"
   ]
  },
  {
   "cell_type": "code",
   "execution_count": 5,
   "metadata": {},
   "outputs": [],
   "source": [
    "# И класс терминального узла (листа)\n",
    "\n",
    "class Leaf:\n",
    "    \n",
    "    def __init__(self, data, labels):\n",
    "        self.data = data\n",
    "        self.labels = labels\n",
    "        self.prediction = self.predict()\n",
    "        \n",
    "    def predict(self):\n",
    "        # подсчет количества объектов разных классов\n",
    "        classes = {}  # сформируем словарь \"класс: количество объектов\"\n",
    "        for label in self.labels:\n",
    "            if label not in classes:\n",
    "                classes[label] = 0\n",
    "            classes[label] += 1\n",
    "        #  найдем класс, количество объектов которого будет максимальным в этом листе и вернем его    \n",
    "        prediction = max(classes, key=classes.get)\n",
    "        return prediction      "
   ]
  },
  {
   "cell_type": "code",
   "execution_count": 6,
   "metadata": {},
   "outputs": [],
   "source": [
    "# Расчет критерия Джини\n",
    "\n",
    "def gini(labels):\n",
    "    #  подсчет количества объектов разных классов\n",
    "    classes = {}\n",
    "    for label in labels:\n",
    "        if label not in classes:\n",
    "            classes[label] = 0\n",
    "        classes[label] += 1\n",
    "    \n",
    "    #  расчет критерия\n",
    "    impurity = 1\n",
    "    for label in classes:\n",
    "        p = classes[label] / len(labels)\n",
    "        impurity -= p ** 2\n",
    "        \n",
    "    return impurity"
   ]
  },
  {
   "cell_type": "code",
   "execution_count": 33,
   "metadata": {},
   "outputs": [],
   "source": [
    "# Расчет качества\n",
    "\n",
    "def quality(left_labels, right_labels, current_gini):\n",
    "\n",
    "    # доля выбоки, ушедшая в левое поддерево\n",
    "    p = float(left_labels.shape[0]) / (left_labels.shape[0] + right_labels.shape[0])\n",
    "    \n",
    "    return current_gini - p * gini(left_labels) - (1 - p) * gini(right_labels)"
   ]
  },
  {
   "cell_type": "code",
   "execution_count": 38,
   "metadata": {},
   "outputs": [],
   "source": [
    "# Разбиение датасета в узле\n",
    "\n",
    "def split(data, labels, index, t):\n",
    "    \n",
    "    left = np.where(data[:, index] <= t)\n",
    "    right = np.where(data[:, index] > t)\n",
    "        \n",
    "    true_data = data[left]\n",
    "    false_data = data[right]\n",
    "    true_labels = labels[left]\n",
    "    false_labels = labels[right]\n",
    "        \n",
    "    return true_data, false_data, true_labels, false_labels"
   ]
  },
  {
   "cell_type": "code",
   "execution_count": 39,
   "metadata": {},
   "outputs": [],
   "source": [
    "# Нахождение наилучшего разбиения\n",
    "\n",
    "def find_best_split(data, labels,type_qualitu = 'gini'):\n",
    "    \n",
    "    #  обозначим минимальное количество объектов в узле\n",
    "    min_leaf = 5\n",
    "    if type_qualitu == 'entropy':\n",
    "        current_qualitu = entropy(labels)\n",
    "    else:\n",
    "        current_qualitu = gini(labels)\n",
    "\n",
    "    best_quality = 0\n",
    "    best_t = None\n",
    "    best_index = None\n",
    "    \n",
    "    n_features = data.shape[1]\n",
    "    \n",
    "    for index in range(n_features):\n",
    "        # будем проверять только уникальные значения признака, исключая повторения\n",
    "        t_values = np.unique([row[index] for row in data])\n",
    "        \n",
    "        for t in t_values:\n",
    "            true_data, false_data, true_labels, false_labels = split(data, labels, index, t)\n",
    "            #  пропускаем разбиения, в которых в узле остается менее 5 объектов\n",
    "            if len(true_data) < min_leaf or len(false_data) < min_leaf:\n",
    "                continue\n",
    "            \n",
    "            current_quality = quality(true_labels, false_labels, current_qualitu,type_qualitu=type_qualitu)\n",
    "            \n",
    "            #  выбираем порог, на котором получается максимальный прирост качества\n",
    "            if current_quality > best_quality:\n",
    "                best_quality, best_t, best_index = current_quality, t, index\n",
    "\n",
    "    return best_quality, best_t, best_index"
   ]
  },
  {
   "cell_type": "code",
   "execution_count": 40,
   "metadata": {},
   "outputs": [],
   "source": [
    "# Построение дерева с помощью рекурсивной функции\n",
    "\n",
    "def build_tree(data, labels,type_qualitu='gini'):\n",
    "\n",
    "    quality, t, index = find_best_split(data, labels,type_qualitu=type_qualitu)\n",
    "\n",
    "    #  Базовый случай - прекращаем рекурсию, когда нет прироста в качества\n",
    "    if quality == 0:\n",
    "        return Leaf(data, labels)\n",
    "\n",
    "    true_data, false_data, true_labels, false_labels = split(data, labels, index, t)\n",
    "\n",
    "    # Рекурсивно строим два поддерева\n",
    "    true_branch = build_tree(true_data, true_labels,type_qualitu=type_qualitu)\n",
    "    false_branch = build_tree(false_data, false_labels,type_qualitu=type_qualitu)\n",
    "\n",
    "    # Возвращаем класс узла со всеми поддеревьями, то есть целого дерева\n",
    "    return Node(index, t, true_branch, false_branch)"
   ]
  },
  {
   "cell_type": "code",
   "execution_count": 11,
   "metadata": {},
   "outputs": [],
   "source": [
    "def classify_object(obj, node):\n",
    "\n",
    "    #  Останавливаем рекурсию, если достигли листа\n",
    "    if isinstance(node, Leaf):\n",
    "        answer = node.prediction\n",
    "        return answer\n",
    "\n",
    "    if obj[node.index] <= node.t:\n",
    "        return classify_object(obj, node.true_branch)\n",
    "    else:\n",
    "        return classify_object(obj, node.false_branch)"
   ]
  },
  {
   "cell_type": "code",
   "execution_count": 12,
   "metadata": {},
   "outputs": [],
   "source": [
    "def predict(data, tree):\n",
    "    \n",
    "    classes = []\n",
    "    for obj in data:\n",
    "        prediction = classify_object(obj, tree)\n",
    "        classes.append(prediction)\n",
    "    return classes"
   ]
  },
  {
   "cell_type": "code",
   "execution_count": 13,
   "metadata": {},
   "outputs": [],
   "source": [
    "# Напечатаем ход нашего дерева\n",
    "def print_tree(node, spacing=\"\"):\n",
    "\n",
    "    # Если лист, то выводим его прогноз\n",
    "    if isinstance(node, Leaf):\n",
    "        print(spacing + \"Прогноз:\", node.prediction)\n",
    "        return\n",
    "\n",
    "    # Выведем значение индекса и порога на этом узле\n",
    "    print(spacing + 'Индекс', str(node.index))\n",
    "    print(spacing + 'Порог', str(node.t))\n",
    "\n",
    "    # Рекурсионный вызов функции на положительном поддереве\n",
    "    print (spacing + '--> True:')\n",
    "    print_tree(node.true_branch, spacing + \"  \")\n",
    "\n",
    "    # Рекурсионный вызов функции на положительном поддереве\n",
    "    print (spacing + '--> False:')\n",
    "    print_tree(node.false_branch, spacing + \"  \")\n",
    "    \n"
   ]
  },
  {
   "cell_type": "code",
   "execution_count": 14,
   "metadata": {},
   "outputs": [],
   "source": [
    "# Введем функцию подсчета точности как доли правильных ответов\n",
    "def accuracy_metric(actual, predicted):\n",
    "    correct = 0\n",
    "    for i in range(len(actual)):\n",
    "        if actual[i] == predicted[i]:\n",
    "            correct += 1\n",
    "    return correct / float(len(actual)) * 100.0"
   ]
  },
  {
   "cell_type": "markdown",
   "metadata": {},
   "source": [
    "1. В коде из методички реализуйте один или несколько из критериев останова (количество листьев, количество используемых признаков, глубина дерева и т.д.)."
   ]
  },
  {
   "cell_type": "markdown",
   "metadata": {},
   "source": [
    "Перепишем функцию build_tree с ограничением на глубину дерева.\n",
    "build_tree_limit"
   ]
  },
  {
   "cell_type": "code",
   "execution_count": 50,
   "metadata": {},
   "outputs": [],
   "source": [
    "def build_tree_limit(data, labels,limit,type_qualitu='gini'):\n",
    "    limit-=1\n",
    "    quality, t, index = find_best_split(data, labels,type_qualitu=type_qualitu)\n",
    "\n",
    "    #  Базовый случай - прекращаем рекурсию, когда нет прироста в качества\n",
    "    if quality == 0 or limit == 0:\n",
    "        return Leaf(data, labels)\n",
    "\n",
    "    true_data, false_data, true_labels, false_labels = split(data, labels, index, t)\n",
    "\n",
    "    # Рекурсивно строим два поддерева\n",
    "    true_branch = build_tree_limit(true_data, true_labels,limit,type_qualitu=type_qualitu)\n",
    "    false_branch = build_tree_limit(false_data, false_labels,limit,type_qualitu=type_qualitu)\n",
    "\n",
    "    # Возвращаем класс узла со всеми поддеревьями, то есть целого дерева\n",
    "    return Node(index, t, true_branch, false_branch)"
   ]
  },
  {
   "cell_type": "code",
   "execution_count": 78,
   "metadata": {},
   "outputs": [],
   "source": [
    "my_tree_limit = build_tree_limit(train_data, train_labels,5)"
   ]
  },
  {
   "cell_type": "code",
   "execution_count": 79,
   "metadata": {},
   "outputs": [],
   "source": [
    "my_tree = build_tree(train_data, train_labels)"
   ]
  },
  {
   "cell_type": "code",
   "execution_count": 80,
   "metadata": {},
   "outputs": [],
   "source": [
    "# подсчитаем максимальную глубину дерева\n",
    "def depth_tree(node,n=1):\n",
    "\n",
    "    # Если лист, то выводим глубину долиста\n",
    "    if isinstance(node, Leaf):   \n",
    "        return n\n",
    "    \n",
    "    # Рекурсионный вызов функции на положительном поддереве\n",
    "    l = depth_tree(node.true_branch, n=n+1)\n",
    "\n",
    "    # Рекурсионный вызов функции на положительном поддереве\n",
    "    m =  depth_tree(node.false_branch, n=n+1)\n",
    "    return l,m"
   ]
  },
  {
   "cell_type": "code",
   "execution_count": 81,
   "metadata": {},
   "outputs": [
    {
     "data": {
      "text/plain": [
       "((((5, 5), (5, 5)), 3), ((4, 4), ((5, 5), (5, 5))))"
      ]
     },
     "execution_count": 81,
     "metadata": {},
     "output_type": "execute_result"
    }
   ],
   "source": [
    "a,b = depth_tree(my_tree_limit)\n",
    "a,b"
   ]
  },
  {
   "cell_type": "code",
   "execution_count": 82,
   "metadata": {},
   "outputs": [
    {
     "data": {
      "text/plain": [
       "((((5,\n",
       "    ((((9, (10, (11, 11))), 8), (8, 8)),\n",
       "     (((9, 9), 8),\n",
       "      (8,\n",
       "       (((((13, 13), 12), (12, (13, 13))), ((12, 12), 11)),\n",
       "        ((11, 11), 10)))))),\n",
       "   (5, ((7, 7), 6))),\n",
       "  3),\n",
       " ((4, 4),\n",
       "  ((((7, (8, 8)), 6), (6, 6)),\n",
       "   (((((9, (10, (11, 11))), 8), (8, 8)), 6), ((7, (8, 8)), 6)))))"
      ]
     },
     "execution_count": 82,
     "metadata": {},
     "output_type": "execute_result"
    }
   ],
   "source": [
    "a,b = depth_tree(my_tree)\n",
    "a,b"
   ]
  },
  {
   "cell_type": "code",
   "execution_count": 83,
   "metadata": {},
   "outputs": [
    {
     "name": "stdout",
     "output_type": "stream",
     "text": [
      "Дерево без ограничений критерий джини, критерий Джини: Качество на обучаеющей выборке 93.24675324675324, качество на тесовой выборке 91.81818181818183\n"
     ]
    }
   ],
   "source": [
    "# Изучим качество  ответов для обучающей и тестовой выборки по дереву без ограничения\n",
    "train_answers = predict(train_data, my_tree)\n",
    "answers = predict(test_data, my_tree)\n",
    "train_accuracy = tr_nolimit_dgini =accuracy_metric(train_labels, train_answers)\n",
    "test_accuracy = test_nolimit_dgini=accuracy_metric(test_labels, answers)\n",
    "print (f'Дерево без ограничений критерий джини, критерий Джини: Качество на обучаеющей выборке {train_accuracy}, качество на тесовой выборке {test_accuracy}')"
   ]
  },
  {
   "cell_type": "code",
   "execution_count": 84,
   "metadata": {},
   "outputs": [
    {
     "name": "stdout",
     "output_type": "stream",
     "text": [
      "Дерево c ограниченим критерий джини: Качество на обучаеющей выборке 93.24675324675324, качество на тесовой выборке 92.42424242424242\n"
     ]
    }
   ],
   "source": [
    "# Изучим качество  ответов для обучающей и тестовой выборки по дереву с ограничением\n",
    "train_answers = predict(train_data, my_tree_limit)\n",
    "answers = predict(test_data, my_tree_limit)\n",
    "train_accuracy = tr_limit_dgini=accuracy_metric(train_labels, train_answers)\n",
    "test_accuracy = test_limit_dgini =accuracy_metric(test_labels, answers)\n",
    "print (f'Дерево c ограниченим критерий джини: Качество на обучаеющей выборке {train_accuracy}, качество на тесовой выборке {test_accuracy}')"
   ]
  },
  {
   "cell_type": "markdown",
   "metadata": {},
   "source": [
    "Как видно качество ответов на тестоваой выборке лучше у дерева с ограничением глубины"
   ]
  },
  {
   "cell_type": "markdown",
   "metadata": {},
   "source": [
    "2. Для задачи классификации обучить дерево решений с использованием критериев разбиения Джини и Энтропия. Сравнить качество классификации, сделать выводы."
   ]
  },
  {
   "cell_type": "code",
   "execution_count": 85,
   "metadata": {},
   "outputs": [],
   "source": [
    "# Расчет критерия Энтропии\n",
    "\n",
    "def entropy(labels):\n",
    "    #  подсчет количества объектов разных классов\n",
    "    classes = {}\n",
    "    for label in labels:\n",
    "        if label not in classes:\n",
    "            classes[label] = 0\n",
    "        classes[label] += 1\n",
    "    \n",
    "    #  расчет критерия\n",
    "    impurity = 0\n",
    "    for label in classes:\n",
    "        p = classes[label] / len(labels)\n",
    "        impurity -= p *np.log2(p)\n",
    "        \n",
    "    return impurity"
   ]
  },
  {
   "cell_type": "code",
   "execution_count": 86,
   "metadata": {},
   "outputs": [],
   "source": [
    "# Расчет качества добавим аргумент, тип оценки\n",
    "\n",
    "def quality(left_labels, right_labels, current_quality,type_qualitu = 'gini'):\n",
    "\n",
    "    # доля выбоки, ушедшая в левое поддерево\n",
    "    p = float(left_labels.shape[0]) / (left_labels.shape[0] + right_labels.shape[0])\n",
    "    if type_qualitu == 'entropy':\n",
    "        return current_quality - p * entropy(left_labels) - (1 - p) * entropy(right_labels)  \n",
    "    return current_quality - p * gini(left_labels) - (1 - p) * gini(right_labels)"
   ]
  },
  {
   "cell_type": "markdown",
   "metadata": {},
   "source": [
    "добавим данный аргумент в другие зависимые функции"
   ]
  },
  {
   "cell_type": "code",
   "execution_count": 87,
   "metadata": {},
   "outputs": [],
   "source": [
    "# Построим дерево с криетерием энтропии\n",
    "my_tree = build_tree(train_data, train_labels,type_qualitu = 'entropy')"
   ]
  },
  {
   "cell_type": "code",
   "execution_count": 88,
   "metadata": {},
   "outputs": [
    {
     "name": "stdout",
     "output_type": "stream",
     "text": [
      "Дерево без ограничений, критерий энтропия: Качество на обучаеющей выборке 93.24675324675324, качество на тесовой выборке 92.42424242424242\n"
     ]
    }
   ],
   "source": [
    "# Изучим качество  ответов для обучающей и тестовой выборки по дереву без ограничения c оценкой энтропия\n",
    "train_answers = predict(train_data, my_tree)\n",
    "answers = predict(test_data, my_tree)\n",
    "train_accuracy = tr_nolimit_entropy=accuracy_metric(train_labels, train_answers)\n",
    "test_accuracy =test_nolimit_entropy= accuracy_metric(test_labels, answers)\n",
    "print (f'Дерево без ограничений, критерий энтропия: Качество на обучаеющей выборке {train_accuracy}, качество на тесовой выборке {test_accuracy}')"
   ]
  },
  {
   "cell_type": "code",
   "execution_count": 89,
   "metadata": {},
   "outputs": [],
   "source": [
    "# Построим дерево с критерием Энтропия с лимитом\n",
    "my_tree_limit = build_tree_limit(train_data, train_labels,5,type_qualitu = 'entropy')"
   ]
  },
  {
   "cell_type": "code",
   "execution_count": 90,
   "metadata": {},
   "outputs": [
    {
     "name": "stdout",
     "output_type": "stream",
     "text": [
      "Дерево c ограниченим по критерю энтропия: Качество на обучаеющей выборке 93.24675324675324, качество на тесовой выборке 92.42424242424242\n"
     ]
    }
   ],
   "source": [
    "# Изучим качество  ответов для обучающей и тестовой выборки по дереву с ограничением по критерю энтропия\n",
    "train_answers = predict(train_data, my_tree_limit)\n",
    "answers = predict(test_data, my_tree_limit)\n",
    "train_accuracy = tr_limit_entropy = accuracy_metric(train_labels, train_answers)\n",
    "test_accuracy = test_limit_entropy = accuracy_metric(test_labels, answers)\n",
    "print (f'Дерево c ограниченим по критерю энтропия: Качество на обучаеющей выборке {train_accuracy}, качество на тесовой выборке {test_accuracy}')"
   ]
  },
  {
   "cell_type": "code",
   "execution_count": 91,
   "metadata": {},
   "outputs": [],
   "source": [
    "result_test = np.array([['критерий','Без ограничений','С ограничением'],['джини',test_nolimit_dgini,test_limit_dgini],\n",
    "                        ['Энтропия',test_nolimit_entropy,test_limit_entropy]])"
   ]
  },
  {
   "cell_type": "code",
   "execution_count": 92,
   "metadata": {},
   "outputs": [
    {
     "data": {
      "text/plain": [
       "array([['критерий', 'Без ограничений', 'С ограничением'],\n",
       "       ['джини', '91.81818181818183', '92.42424242424242'],\n",
       "       ['Энтропия', '92.42424242424242', '92.42424242424242']],\n",
       "      dtype='<U17')"
      ]
     },
     "execution_count": 92,
     "metadata": {},
     "output_type": "execute_result"
    }
   ],
   "source": [
    "result_test"
   ]
  },
  {
   "cell_type": "code",
   "execution_count": 93,
   "metadata": {},
   "outputs": [],
   "source": [
    "result_train = np.array([['критерий','Без ограничений','С ограничением'],['джини',tr_nolimit_dgini,tr_limit_dgini],\n",
    "                        ['Энтропия',tr_nolimit_entropy,tr_limit_entropy]])"
   ]
  },
  {
   "cell_type": "code",
   "execution_count": 94,
   "metadata": {},
   "outputs": [
    {
     "data": {
      "text/plain": [
       "array([['критерий', 'Без ограничений', 'С ограничением'],\n",
       "       ['джини', '93.24675324675324', '93.24675324675324'],\n",
       "       ['Энтропия', '93.24675324675324', '93.24675324675324']],\n",
       "      dtype='<U17')"
      ]
     },
     "execution_count": 94,
     "metadata": {},
     "output_type": "execute_result"
    }
   ],
   "source": [
    "result_train"
   ]
  },
  {
   "cell_type": "markdown",
   "metadata": {},
   "source": [
    "Энтропия дает такие же результаты на тесте, как джини с ограничениме глубины дерева, при этом в энтропии уменьшение глубины не влияет на результат"
   ]
  },
  {
   "cell_type": "code",
   "execution_count": null,
   "metadata": {},
   "outputs": [],
   "source": []
  }
 ],
 "metadata": {
  "kernelspec": {
   "display_name": "Python 3",
   "language": "python",
   "name": "python3"
  },
  "language_info": {
   "codemirror_mode": {
    "name": "ipython",
    "version": 3
   },
   "file_extension": ".py",
   "mimetype": "text/x-python",
   "name": "python",
   "nbconvert_exporter": "python",
   "pygments_lexer": "ipython3",
   "version": "3.8.3"
  }
 },
 "nbformat": 4,
 "nbformat_minor": 4
}
