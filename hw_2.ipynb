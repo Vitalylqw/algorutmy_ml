{
 "cells": [
  {
   "cell_type": "code",
   "execution_count": 1,
   "metadata": {},
   "outputs": [],
   "source": [
    "import numpy as np\n",
    "import sklearn  as sk\n",
    "from sklearn import datasets\n",
    "import matplotlib.pyplot as plt\n"
   ]
  },
  {
   "cell_type": "markdown",
   "metadata": {},
   "source": [
    "Задание №1\n"
   ]
  },
  {
   "cell_type": "markdown",
   "metadata": {},
   "source": [
    "Сгенерировать датасет при помощи sklearn.datasets.make_regression и обучить линейную модель при помощи градиентного и стохастического градиентного спуска. Нанести среднеквадратичную ошибку для обоих методов на один график, сделать выводы о разнице скорости сходимости каждого из методов.\n"
   ]
  },
  {
   "cell_type": "code",
   "execution_count": 2,
   "metadata": {},
   "outputs": [],
   "source": [
    "data, target, coef = datasets.make_regression(n_samples=100000, n_features = 1, n_informative = 1, \n",
    "                                                 n_targets = 1, noise = 10, coef = True, random_state = 3)"
   ]
  },
  {
   "cell_type": "code",
   "execution_count": 3,
   "metadata": {},
   "outputs": [
    {
     "data": {
      "text/plain": [
       "array(85.59724823)"
      ]
     },
     "execution_count": 3,
     "metadata": {},
     "output_type": "execute_result"
    }
   ],
   "source": [
    "coef"
   ]
  },
  {
   "cell_type": "code",
   "execution_count": 4,
   "metadata": {},
   "outputs": [
    {
     "data": {
      "image/png": "[encoded data removed]",
      "text/plain": [
       "<Figure size 432x288 with 1 Axes>"
      ]
     },
     "metadata": {
      "needs_background": "light"
     },
     "output_type": "display_data"
    }
   ],
   "source": [
    "plt.scatter(data,target)\n",
    "plt.plot(data,coef*data,color = 'red')\n",
    "plt.show()"
   ]
  },
  {
   "cell_type": "markdown",
   "metadata": {},
   "source": [
    "Добавим свободный столбец из едениц для коэфициента интерцепта"
   ]
  },
  {
   "cell_type": "code",
   "execution_count": 5,
   "metadata": {},
   "outputs": [],
   "source": [
    "a=np.ones(len(data))\n",
    "data = np.hstack((np.column_stack(a).reshape(-1,1),data))"
   ]
  },
  {
   "cell_type": "code",
   "execution_count": 6,
   "metadata": {},
   "outputs": [
    {
     "data": {
      "text/plain": [
       "array([[ 1.        , -1.22022   ],\n",
       "       [ 1.        ,  0.32669378],\n",
       "       [ 1.        , -2.37452056],\n",
       "       ...,\n",
       "       [ 1.        ,  0.65977606],\n",
       "       [ 1.        ,  0.54330925],\n",
       "       [ 1.        ,  0.48459046]])"
      ]
     },
     "execution_count": 6,
     "metadata": {},
     "output_type": "execute_result"
    }
   ],
   "source": [
    "data"
   ]
  },
  {
   "cell_type": "code",
   "execution_count": 7,
   "metadata": {},
   "outputs": [
    {
     "data": {
      "text/plain": [
       "(100000, 2)"
      ]
     },
     "execution_count": 7,
     "metadata": {},
     "output_type": "execute_result"
    }
   ],
   "source": [
    "data.shape"
   ]
  },
  {
   "cell_type": "code",
   "execution_count": 8,
   "metadata": {},
   "outputs": [],
   "source": [
    "# Функция ошибки\n",
    "def mse(y_pred,y):\n",
    "    return ((y_pred - y)**2).mean()"
   ]
  },
  {
   "cell_type": "code",
   "execution_count": 9,
   "metadata": {},
   "outputs": [],
   "source": [
    "# Коэф детерминации\n",
    "def R2(y_pred,y):\n",
    "    return 1- ((y_pred - y)**2).sum()/((y-y.mean())**2).sum()"
   ]
  },
  {
   "cell_type": "code",
   "execution_count": 10,
   "metadata": {},
   "outputs": [],
   "source": [
    "# Функция вывода результатов тестирования\n",
    "def print_result(y_pred,y,W_classic,iter_classic):\n",
    "    print('Результаты обучения  градиентного спуска')\n",
    "    print(f'полученный результат W \\n {W_classic}')\n",
    "    print(f'последняя ошибка -  {iter_classic[-1]},минимальная ошибка {min(iter_classic)}')\n",
    "    print(f'Количество итераций  - {len(iter_classic)}')\n",
    "    print(f'коэф. R2  - {R2(y_pred,y)}')"
   ]
  },
  {
   "cell_type": "code",
   "execution_count": 11,
   "metadata": {},
   "outputs": [],
   "source": [
    "# Функция градиентнго спуска\n",
    "def gradient_descent(X,Y,alpha=0.01,count_iter_max = int(1e4),criteriy =1e-8 ):\n",
    "    number_obj,number_features = X.shape\n",
    "    Wr = np.random.randn(number_features).reshape(-1,1)\n",
    "    data=[]\n",
    "    for  i in range(count_iter_max):\n",
    "        Y_pred = X@Wr\n",
    "        data.append(mse(Y_pred,Y))\n",
    "        delta = Y_pred-Y\n",
    "        Wr_old = Wr.copy()\n",
    "        Wr-=alpha*2/number_obj*(X.T@delta)\n",
    "        if (((Wr-Wr_old).T@(Wr-Wr_old)))**(1/2)<criteriy:\n",
    "            print_result(Y_pred,Y,Wr,data)\n",
    "            return Wr,data  \n",
    "    print_result(Y_pred,Y,Wr,data)    \n",
    "    return Wr,data  "
   ]
  },
  {
   "cell_type": "markdown",
   "metadata": {},
   "source": [
    "Проведем расчет по нашим данным градиентного спуска"
   ]
  },
  {
   "cell_type": "code",
   "execution_count": 12,
   "metadata": {},
   "outputs": [
    {
     "name": "stdout",
     "output_type": "stream",
     "text": [
      "Результаты обучения  градиентного спуска\n",
      "полученный результат W \n",
      " [[-1.59112256e-02]\n",
      " [ 8.55752399e+01]]\n",
      "последняя ошибка -  99.31363482481758,минимальная ошибка 99.31363482481758\n",
      "Количество итераций  - 946\n",
      "коэф. R2  - 0.9865324075761069\n"
     ]
    }
   ],
   "source": [
    "W_classic, iter_classic = gradient_descent(data,target.reshape(-1,1) )"
   ]
  },
  {
   "cell_type": "code",
   "execution_count": null,
   "metadata": {},
   "outputs": [],
   "source": []
  },
  {
   "cell_type": "markdown",
   "metadata": {},
   "source": [
    "Попоробуем обучить модель на 70% выборки, и проверить качество результтов предсказания 30%"
   ]
  },
  {
   "cell_type": "code",
   "execution_count": 13,
   "metadata": {},
   "outputs": [],
   "source": [
    "# Функция деления выборки , обучения и сравнения результатов для обычного градиентного спуска\n",
    "def check_training(data):\n",
    "    a = np.arange(len(data))\n",
    "    ind_train= np.random.choice(a,size= int(len(data)*0.7),replace=False)\n",
    "    X_train =  data[ind_train]\n",
    "    y_train =target[ind_train]\n",
    "    X_test = np.delete(data,ind_train,axis=0)\n",
    "    y_test = np.delete(target,ind_train,axis=0)\n",
    "    W, it = gradient_descent(X_train,y_train.reshape(-1,1))\n",
    "    y_pred = X_test@W\n",
    "    print(30*'-')\n",
    "    print('Результаты тестовой выборки')\n",
    "    print(f'Ошибка - {mse(y_pred,y_test.reshape(-1,1))}')\n",
    "    print(f'Коэф  - {R2(y_pred,y_test.reshape(-1,1))}')\n",
    "    plt.scatter( X_test[:,1] ,    y_pred,color = 'red')\n",
    "    plt.scatter( X_test[:,1] ,    y_test)"
   ]
  },
  {
   "cell_type": "code",
   "execution_count": 14,
   "metadata": {},
   "outputs": [],
   "source": [
    "# Функция деления выборки , обучения и сравнения результатов для обычного градиентного спуска L2\n",
    "def check_training_l2(data,k):\n",
    "    a = np.arange(len(data))\n",
    "    ind_train= np.random.choice(a,size= int(len(data)*0.7),replace=False)\n",
    "    X_train =  data[ind_train]\n",
    "    y_train =target[ind_train]\n",
    "    X_test = np.delete(data,ind_train,axis=0)\n",
    "    y_test = np.delete(target,ind_train,axis=0)\n",
    "    W, it = gradient_descent_l2(X_train,y_train.reshape(-1,1),k=k)\n",
    "    y_pred = X_test@W\n",
    "    print(30*'-')\n",
    "    print('Результаты тестовой выборки')\n",
    "    print(f'Ошибка - {mse(y_pred,y_test.reshape(-1,1))}')\n",
    "    print(f'Коэф  - {R2(y_pred,y_test.reshape(-1,1))}')\n",
    "    plt.scatter( X_test[:,1] ,    y_pred,color = 'red')\n",
    "    plt.scatter( X_test[:,1] ,    y_test)"
   ]
  },
  {
   "cell_type": "code",
   "execution_count": 15,
   "metadata": {},
   "outputs": [],
   "source": [
    "# Функция деления выборки , обучения и сравнения результатов для обычного градиентного спуска L1\n",
    "def check_training_l1(data,k):\n",
    "    a = np.arange(len(data))\n",
    "    ind_train= np.random.choice(a,size= int(len(data)*0.7),replace=False)\n",
    "    X_train =  data[ind_train]\n",
    "    y_train =target[ind_train]\n",
    "    X_test = np.delete(data,ind_train,axis=0)\n",
    "    y_test = np.delete(target,ind_train,axis=0)\n",
    "    W, it = gradient_descent_l1(X_train,y_train.reshape(-1,1),k=k)\n",
    "    y_pred = X_test@W\n",
    "    print(30*'-')\n",
    "    print('Результаты тестовой выборки')\n",
    "    print(f'Ошибка - {mse(y_pred,y_test.reshape(-1,1))}')\n",
    "    print(f'Коэф  - {R2(y_pred,y_test.reshape(-1,1))}')\n",
    "    plt.scatter( X_test[:,1] ,    y_pred,color = 'red')\n",
    "    plt.scatter( X_test[:,1] ,    y_test)"
   ]
  },
  {
   "cell_type": "code",
   "execution_count": 16,
   "metadata": {},
   "outputs": [],
   "source": [
    "# Функция деления выборки , обучения и сравнения результатов для стохастического градиентного спуска\n",
    "def check_training_st(data):\n",
    "    a = np.arange(len(data))\n",
    "    ind_train= np.random.choice(a,size= int(len(data)*0.7),replace=False)\n",
    "    X_train =  data[ind_train]\n",
    "    y_train =target[ind_train]\n",
    "    X_test = np.delete(data,ind_train,axis=0)\n",
    "    y_test = np.delete(target,ind_train,axis=0)\n",
    "    W, it = s_gradient_descent(X_train,y_train.reshape(-1,1))\n",
    "    y_pred = X_test@W\n",
    "    print(30*'-')\n",
    "    print('Результаты тестовой выборки')\n",
    "    print(f'Ошибка - {mse(y_pred,y_test.reshape(-1,1))}')\n",
    "    print(f'Коэф  - {R2(y_pred,y_test.reshape(-1,1))}')\n",
    "    plt.scatter( X_test[:,1] ,    y_pred,color = 'red')\n",
    "    plt.scatter( X_test[:,1] ,    y_test)"
   ]
  },
  {
   "cell_type": "markdown",
   "metadata": {},
   "source": [
    "Запсустим тестирование разделением и обучением на обычных данных по обычному гр. спуску"
   ]
  },
  {
   "cell_type": "code",
   "execution_count": 17,
   "metadata": {},
   "outputs": [
    {
     "name": "stdout",
     "output_type": "stream",
     "text": [
      "Результаты обучения  градиентного спуска\n",
      "полученный результат W \n",
      " [[-1.91022880e-02]\n",
      " [ 8.55501033e+01]]\n",
      "последняя ошибка -  99.5006192576357,минимальная ошибка 99.5006192576357\n",
      "Количество итераций  - 945\n",
      "коэф. R2  - 0.9864999844749841\n",
      "------------------------------\n",
      "Результаты тестовой выборки\n",
      "Ошибка - 98.87946292179394\n",
      "Коэф  - 0.9866076009356546\n"
     ]
    },
    {
     "data": {
      "image/png": "[encoded data removed]",
      "text/plain": [
       "<Figure size 432x288 with 1 Axes>"
      ]
     },
     "metadata": {
      "needs_background": "light"
     },
     "output_type": "display_data"
    }
   ],
   "source": [
    "check_training(data)"
   ]
  },
  {
   "cell_type": "markdown",
   "metadata": {},
   "source": [
    "стохастический градиентный спуск"
   ]
  },
  {
   "cell_type": "code",
   "execution_count": 18,
   "metadata": {},
   "outputs": [],
   "source": [
    "# Функция стохастического гр. спуска\n",
    "def s_gradient_descent(X,Y,alpha=0.01,count_iter_max = 10000,criteriy =1e-5):\n",
    "    number_obj,number_features = X.shape\n",
    "    Wr = np.zeros((number_features,1))\n",
    "    data=[]\n",
    "    for  i in range(count_iter_max):\n",
    "        item = np.random.randint(number_obj)\n",
    "        Y_pred = X[item]@Wr\n",
    "        data.append(mse(X@Wr,Y))\n",
    "        delta = Y_pred-Y[item]\n",
    "        Wr_old = Wr.copy()\n",
    "        Wr-=alpha*2*delta*X[item].reshape(-1,1)\n",
    "        if np.linalg.norm(Wr-Wr_old,ord = 2)<criteriy:\n",
    "            print_result(X@Wr,Y,Wr,data)\n",
    "            return Wr,data\n",
    "    print_result(X@Wr,Y,Wr,data)    \n",
    "    return Wr,data  "
   ]
  },
  {
   "cell_type": "code",
   "execution_count": 19,
   "metadata": {},
   "outputs": [
    {
     "name": "stdout",
     "output_type": "stream",
     "text": [
      "Результаты обучения  градиентного спуска\n",
      "полученный результат W \n",
      " [[ 0.96329377]\n",
      " [84.30254484]]\n",
      "последняя ошибка -  101.88731360091633,минимальная ошибка 99.31471041121507\n",
      "Количество итераций  - 931\n",
      "коэф. R2  - 0.986183397605012\n"
     ]
    }
   ],
   "source": [
    "W_s, iter_s = s_gradient_descent(data,target.reshape(-1,1) )"
   ]
  },
  {
   "cell_type": "markdown",
   "metadata": {},
   "source": [
    "Попоробуем обучить модель на 70% выборки, и проверить качество результтов предсказания 30%, для стохастического спуска"
   ]
  },
  {
   "cell_type": "code",
   "execution_count": 20,
   "metadata": {},
   "outputs": [
    {
     "name": "stdout",
     "output_type": "stream",
     "text": [
      "Результаты обучения  градиентного спуска\n",
      "полученный результат W \n",
      " [[-0.57585282]\n",
      " [83.83518316]]\n",
      "последняя ошибка -  102.68789097038074,минимальная ошибка 99.32260245558706\n",
      "Количество итераций  - 1104\n",
      "коэф. R2  - 0.9861322015408627\n",
      "------------------------------\n",
      "Результаты тестовой выборки\n",
      "Ошибка - 102.4968567982794\n",
      "Коэф  - 0.9859651397451437\n"
     ]
    },
    {
     "data": {
      "image/png": "[encoded data removed]",
      "text/plain": [
       "<Figure size 432x288 with 1 Axes>"
      ]
     },
     "metadata": {
      "needs_background": "light"
     },
     "output_type": "display_data"
    }
   ],
   "source": [
    "check_training_st(data)"
   ]
  },
  {
   "cell_type": "markdown",
   "metadata": {},
   "source": [
    "Нарисуем графики ошибок при обучении"
   ]
  },
  {
   "cell_type": "code",
   "execution_count": 21,
   "metadata": {},
   "outputs": [],
   "source": [
    "x1 = [i for i in range(1,len(iter_classic)+1) ]\n",
    "x2 = [i for i in range(1,len(iter_s)+1) ]"
   ]
  },
  {
   "cell_type": "code",
   "execution_count": null,
   "metadata": {},
   "outputs": [],
   "source": []
  },
  {
   "cell_type": "code",
   "execution_count": 22,
   "metadata": {},
   "outputs": [
    {
     "data": {
      "text/plain": [
       "<function matplotlib.pyplot.show(*args, **kw)>"
      ]
     },
     "execution_count": 22,
     "metadata": {},
     "output_type": "execute_result"
    },
    {
     "data": {
      "image/png": "[encoded data removed]",
      "text/plain": [
       "<Figure size 432x288 with 1 Axes>"
      ]
     },
     "metadata": {
      "needs_background": "light"
     },
     "output_type": "display_data"
    }
   ],
   "source": [
    "# \"Ошибка в стохастическом спуске\"\n",
    "plt.ylim(0, 200)\n",
    "plt.plot(x2,iter_s)\n",
    "plt.show"
   ]
  },
  {
   "cell_type": "code",
   "execution_count": 23,
   "metadata": {},
   "outputs": [
    {
     "data": {
      "text/plain": [
       "[<matplotlib.lines.Line2D at 0x2d7171d6bb0>]"
      ]
     },
     "execution_count": 23,
     "metadata": {},
     "output_type": "execute_result"
    },
    {
     "data": {
      "image/png": "[encoded data removed]",
      "text/plain": [
       "<Figure size 432x288 with 1 Axes>"
      ]
     },
     "metadata": {
      "needs_background": "light"
     },
     "output_type": "display_data"
    }
   ],
   "source": [
    "# Ошибка при обычном спуске\n",
    "plt.ylim(0, 200)\n",
    "plt.plot(x1,iter_classic)"
   ]
  },
  {
   "cell_type": "markdown",
   "metadata": {},
   "source": [
    "На одном графике масштабы не позволяют нарисовать. Что бы достич установленный уровень сходимости.\n",
    "Стахостический метод требует куда больше опереаций и времени. Дает менее точные результаты"
   ]
  },
  {
   "cell_type": "markdown",
   "metadata": {},
   "source": [
    "Попробуем нормализовать признаки и проделать то же самое"
   ]
  },
  {
   "cell_type": "code",
   "execution_count": 24,
   "metadata": {},
   "outputs": [],
   "source": [
    "def norm(a):\n",
    "    return (a-a.min())/(a.max()-a.min())"
   ]
  },
  {
   "cell_type": "code",
   "execution_count": 25,
   "metadata": {
    "scrolled": true
   },
   "outputs": [],
   "source": [
    "data1= data.copy()"
   ]
  },
  {
   "cell_type": "code",
   "execution_count": 26,
   "metadata": {},
   "outputs": [],
   "source": [
    "for i in range(1, data1.shape[1]):\n",
    "    data1[:,i] = norm(data1[:,i])\n"
   ]
  },
  {
   "cell_type": "code",
   "execution_count": 27,
   "metadata": {},
   "outputs": [
    {
     "data": {
      "text/plain": [
       "(array([1., 1.]), array([1., 0.]))"
      ]
     },
     "execution_count": 27,
     "metadata": {},
     "output_type": "execute_result"
    }
   ],
   "source": [
    "data1.max(axis=0),data1.min(axis = 0)"
   ]
  },
  {
   "cell_type": "markdown",
   "metadata": {},
   "source": [
    "Классический спуск"
   ]
  },
  {
   "cell_type": "code",
   "execution_count": 28,
   "metadata": {},
   "outputs": [
    {
     "name": "stdout",
     "output_type": "stream",
     "text": [
      "Результаты обучения  градиентного спуска\n",
      "полученный результат W \n",
      " [[-409.35138  ]\n",
      " [ 792.3688588]]\n",
      "последняя ошибка -  99.31363509856033,минимальная ошибка 99.31363509856033\n",
      "Количество итераций  - 65726\n",
      "коэф. R2  - 0.9865324075389856\n"
     ]
    }
   ],
   "source": [
    "W_classic, iter_classic = gradient_descent(data1,target.reshape(-1,1),alpha=0.01,count_iter_max = int(1e5),criteriy =1e-6 )"
   ]
  },
  {
   "cell_type": "markdown",
   "metadata": {},
   "source": [
    "класический спуск с обучением и тестом"
   ]
  },
  {
   "cell_type": "code",
   "execution_count": 29,
   "metadata": {},
   "outputs": [
    {
     "name": "stdout",
     "output_type": "stream",
     "text": [
      "Результаты обучения  градиентного спуска\n",
      "полученный результат W \n",
      " [[-342.88569697]\n",
      " [ 664.93585144]]\n",
      "последняя ошибка -  287.91197759973466,минимальная ошибка 287.91197759973466\n",
      "Количество итераций  - 10000\n",
      "коэф. R2  - 0.9609451983248599\n",
      "------------------------------\n",
      "Результаты тестовой выборки\n",
      "Ошибка - 288.1467412180382\n",
      "Коэф  - 0.9609499094884901\n"
     ]
    },
    {
     "data": {
      "image/png": "[encoded data removed]",
      "text/plain": [
       "<Figure size 432x288 with 1 Axes>"
      ]
     },
     "metadata": {
      "needs_background": "light"
     },
     "output_type": "display_data"
    }
   ],
   "source": [
    "check_training(data1)"
   ]
  },
  {
   "cell_type": "markdown",
   "metadata": {},
   "source": [
    "Стохастический спуск по нормализованным данным"
   ]
  },
  {
   "cell_type": "code",
   "execution_count": 30,
   "metadata": {},
   "outputs": [
    {
     "name": "stdout",
     "output_type": "stream",
     "text": [
      "Результаты обучения  градиентного спуска\n",
      "полученный результат W \n",
      " [[-410.7325388 ]\n",
      " [ 792.29724691]]\n",
      "последняя ошибка -  101.3247151405091,минимальная ошибка 99.313642518568\n",
      "Количество итераций  - 43015\n",
      "коэф. R2  - 0.9862596875581374\n"
     ]
    }
   ],
   "source": [
    "W_s, iter_s = s_gradient_descent(data1,target.reshape(-1,1) ,alpha=0.01,count_iter_max = 100000,criteriy =1e-5)"
   ]
  },
  {
   "cell_type": "markdown",
   "metadata": {},
   "source": [
    "Стохастический спуск по нормализованным данным с обучением и тестом"
   ]
  },
  {
   "cell_type": "code",
   "execution_count": 31,
   "metadata": {},
   "outputs": [
    {
     "name": "stdout",
     "output_type": "stream",
     "text": [
      "Результаты обучения  градиентного спуска\n",
      "полученный результат W \n",
      " [[-345.12602386]\n",
      " [ 660.48175694]]\n",
      "последняя ошибка -  309.4543863727977,минимальная ошибка 300.66195043537556\n",
      "Количество итераций  - 10000\n",
      "коэф. R2  - 0.9572375091664891\n",
      "------------------------------\n",
      "Результаты тестовой выборки\n",
      "Ошибка - 314.7656781963347\n",
      "Коэф  - 0.9569841988265296\n"
     ]
    },
    {
     "data": {
      "image/png": "[encoded data removed]",
      "text/plain": [
       "<Figure size 432x288 with 1 Axes>"
      ]
     },
     "metadata": {
      "needs_background": "light"
     },
     "output_type": "display_data"
    }
   ],
   "source": [
    "check_training_st(data1)"
   ]
  },
  {
   "cell_type": "markdown",
   "metadata": {},
   "source": []
  },
  {
   "cell_type": "markdown",
   "metadata": {},
   "source": [
    "Попробуем стандартизацию\n",
    "Все о же самое для стандартизированных данных"
   ]
  },
  {
   "cell_type": "code",
   "execution_count": 32,
   "metadata": {},
   "outputs": [],
   "source": [
    "def stand(a):\n",
    "    return (a-a.mean())/a.std()"
   ]
  },
  {
   "cell_type": "code",
   "execution_count": 33,
   "metadata": {},
   "outputs": [],
   "source": [
    "data2= data.copy()"
   ]
  },
  {
   "cell_type": "code",
   "execution_count": 34,
   "metadata": {},
   "outputs": [],
   "source": [
    "for i in range(1, data2.shape[1]):\n",
    "    data2[:,i] = stand(data2[:,i])\n"
   ]
  },
  {
   "cell_type": "code",
   "execution_count": 35,
   "metadata": {},
   "outputs": [
    {
     "name": "stdout",
     "output_type": "stream",
     "text": [
      "Результаты обучения  градиентного спуска\n",
      "полученный результат W \n",
      " [[-0.21305565]\n",
      " [85.2933421 ]]\n",
      "последняя ошибка -  99.31363482481758,минимальная ошибка 99.31363482481758\n",
      "Количество итераций  - 940\n",
      "коэф. R2  - 0.9865324075761069\n"
     ]
    }
   ],
   "source": [
    "W_classic, iter_classic = gradient_descent(data2,target.reshape(-1,1) )"
   ]
  },
  {
   "cell_type": "code",
   "execution_count": 36,
   "metadata": {},
   "outputs": [
    {
     "name": "stdout",
     "output_type": "stream",
     "text": [
      "Результаты обучения  градиентного спуска\n",
      "полученный результат W \n",
      " [[-0.21750879]\n",
      " [85.29591562]]\n",
      "последняя ошибка -  99.64071554827125,минимальная ошибка 99.64071554827125\n",
      "Количество итераций  - 939\n",
      "коэф. R2  - 0.9865068909708717\n",
      "------------------------------\n",
      "Результаты тестовой выборки\n",
      "Ошибка - 98.55053463985917\n",
      "Коэф  - 0.9865921889810242\n"
     ]
    },
    {
     "data": {
      "image/png": "[encoded data removed]",
      "text/plain": [
       "<Figure size 432x288 with 1 Axes>"
      ]
     },
     "metadata": {
      "needs_background": "light"
     },
     "output_type": "display_data"
    }
   ],
   "source": [
    "check_training(data2)"
   ]
  },
  {
   "cell_type": "code",
   "execution_count": 37,
   "metadata": {},
   "outputs": [
    {
     "name": "stdout",
     "output_type": "stream",
     "text": [
      "Результаты обучения  градиентного спуска\n",
      "полученный результат W \n",
      " [[-1.24034256]\n",
      " [85.686405  ]]\n",
      "последняя ошибка -  100.52344124807738,минимальная ошибка 99.31420752189038\n",
      "Количество итераций  - 1569\n",
      "коэф. R2  - 0.986368348382881\n"
     ]
    }
   ],
   "source": [
    "W_s, iter_s = s_gradient_descent(data2,target.reshape(-1,1) )"
   ]
  },
  {
   "cell_type": "code",
   "execution_count": 38,
   "metadata": {},
   "outputs": [
    {
     "name": "stdout",
     "output_type": "stream",
     "text": [
      "Результаты обучения  градиентного спуска\n",
      "полученный результат W \n",
      " [[-0.17084601]\n",
      " [82.70347638]]\n",
      "последняя ошибка -  105.52573040082697,минимальная ошибка 98.62862374276447\n",
      "Количество итераций  - 9489\n",
      "коэф. R2  - 0.9857547263017837\n",
      "------------------------------\n",
      "Результаты тестовой выборки\n",
      "Ошибка - 107.18266561790587\n",
      "Коэф  - 0.9853095743900966\n"
     ]
    },
    {
     "data": {
      "image/png": "[encoded data removed]",
      "text/plain": [
       "<Figure size 432x288 with 1 Axes>"
      ]
     },
     "metadata": {
      "needs_background": "light"
     },
     "output_type": "display_data"
    }
   ],
   "source": [
    "check_training_st(data2)"
   ]
  },
  {
   "cell_type": "markdown",
   "metadata": {},
   "source": [
    "Стандартизаци дала хорошие результаты"
   ]
  },
  {
   "cell_type": "markdown",
   "metadata": {},
   "source": [
    "Задание № 2"
   ]
  },
  {
   "cell_type": "markdown",
   "metadata": {},
   "source": [
    "Модифицировать решение первого задания путем добавления  𝐿2 -регуляризации (в функцию, считающую MSE, нужно добавить норму вектора весов) и сравнить результаты."
   ]
  },
  {
   "cell_type": "markdown",
   "metadata": {},
   "source": [
    "Для расчета градиента, К производной целевой функции нужно добавить дополнительное слагаемое, производную от w1^2+w2^2+....Wn^2\n",
    "тогда градинет по w1 = 2*w1 + w2^2+....Wn^2, градиент по w2 = w1^2+2*w2+....Wn^2 ....\n",
    "Что бы это получить, нужно сдлеать матрицу из строк W, по главной диагонали которой будут двойки\n"
   ]
  },
  {
   "cell_type": "code",
   "execution_count": 39,
   "metadata": {},
   "outputs": [],
   "source": [
    "def mse_l2(y_pred,y,W,k=0.001):\n",
    "    return ((y_pred - y)**2).mean()+k*(W*W).sum()"
   ]
  },
  {
   "cell_type": "code",
   "execution_count": 40,
   "metadata": {},
   "outputs": [],
   "source": [
    "# Функция градиентнго спуска  c 𝐿2 -регуляризации\n",
    "def gradient_descent_l2(X,Y,alpha=0.01,count_iter_max = int(1e5),criteriy =1e-8,k=0.001):\n",
    "    number_obj,number_features = X.shape\n",
    "    Wr = np.random.randn(number_features).reshape(-1,1)\n",
    "    data=[]\n",
    "    for  i in range(count_iter_max):\n",
    "        Y_pred = X@Wr\n",
    "        data.append(mse_l2(Y_pred,Y,Wr,k=k))\n",
    "        delta = Y_pred-Y\n",
    "        Wr_old = Wr.copy()\n",
    "        Wr-=alpha*2/number_obj*(X.T@delta)+2*k*Wr\n",
    "        if (((Wr-Wr_old).T@(Wr-Wr_old)))**(1/2)<criteriy:\n",
    "            print_result(Y_pred,Y,Wr,data)\n",
    "            return Wr,data  \n",
    "    print_result(Y_pred,Y,Wr,data)    \n",
    "    return Wr,data  "
   ]
  },
  {
   "cell_type": "code",
   "execution_count": 41,
   "metadata": {},
   "outputs": [
    {
     "name": "stdout",
     "output_type": "stream",
     "text": [
      "Результаты обучения  градиентного спуска\n",
      "полученный результат W \n",
      " [[-3.08556823e-02]\n",
      " [ 7.77488814e+01]]\n",
      "последняя ошибка -  166.2075478360374,минимальная ошибка 166.2075478360374\n",
      "Количество итераций  - 859\n",
      "коэф. R2  - 0.9782808734394647\n"
     ]
    }
   ],
   "source": [
    "W_classic, iter_classic = gradient_descent_l2(data,target.reshape(-1,1),k=0.001 )"
   ]
  },
  {
   "cell_type": "markdown",
   "metadata": {},
   "source": [
    "Посмотрим на обучение"
   ]
  },
  {
   "cell_type": "code",
   "execution_count": 42,
   "metadata": {},
   "outputs": [
    {
     "name": "stdout",
     "output_type": "stream",
     "text": [
      "Результаты обучения  градиентного спуска\n",
      "полученный результат W \n",
      " [[-1.81178725e-02]\n",
      " [ 7.77493327e+01]]\n",
      "последняя ошибка -  166.5732569802727,минимальная ошибка 166.5732569802727\n",
      "Количество итераций  - 861\n",
      "коэф. R2  - 0.9781786898027921\n",
      "------------------------------\n",
      "Результаты тестовой выборки\n",
      "Ошибка - 159.28690951875598\n",
      "Коэф  - 0.978519109502058\n"
     ]
    },
    {
     "data": {
      "image/png": "[encoded data removed]",
      "text/plain": [
       "<Figure size 432x288 with 1 Axes>"
      ]
     },
     "metadata": {
      "needs_background": "light"
     },
     "output_type": "display_data"
    }
   ],
   "source": [
    "check_training_l2(data,k=0.001)"
   ]
  },
  {
   "cell_type": "markdown",
   "metadata": {},
   "source": [
    "L1"
   ]
  },
  {
   "cell_type": "code",
   "execution_count": 43,
   "metadata": {},
   "outputs": [],
   "source": [
    "def mse_l1(y_pred,y,W,k=0.001):\n",
    "    return ((y_pred - y)**2).mean()+k*np.abs(W).sum()"
   ]
  },
  {
   "cell_type": "code",
   "execution_count": 44,
   "metadata": {},
   "outputs": [],
   "source": [
    "# Функция градиентнго спуска  c 𝐿1 -регуляризации\n",
    "def gradient_descent_l1(X,Y,alpha=0.01,count_iter_max = int(1e4),criteriy =1e-8,k=0.001):\n",
    "    number_obj,number_features = X.shape\n",
    "    Wr = np.random.randn(number_features).reshape(-1,1)\n",
    "    data=[]\n",
    "    for  i in range(count_iter_max):\n",
    "        Y_pred = X@Wr\n",
    "        data.append(mse_l1(Y_pred,Y,Wr,k=k))\n",
    "        delta = Y_pred-Y\n",
    "        Wr_old = Wr.copy()\n",
    "        W_delta = np.array([])\n",
    "        for j in Wr:\n",
    "            if j>0:\n",
    "                W_delta = np.append(W_delta, k)\n",
    "            elif j<0:\n",
    "                W_delta=np.append(W_delta, -k)\n",
    "            else:\n",
    "                W_delta = np.append(W_delta, 0)    \n",
    "        W_delta = W_delta.reshape(-1,1) \n",
    "        Wr-=alpha*2/number_obj*(X.T@delta)+2*W_delta\n",
    "        if (((Wr-Wr_old).T@(Wr-Wr_old)))**(1/2)<criteriy:\n",
    "            print_result(Y_pred,Y,Wr,data)\n",
    "            return Wr,data  \n",
    "    print_result(Y_pred,Y,Wr,data)    \n",
    "    return Wr,data  "
   ]
  },
  {
   "cell_type": "code",
   "execution_count": 45,
   "metadata": {},
   "outputs": [
    {
     "name": "stdout",
     "output_type": "stream",
     "text": [
      "Результаты обучения  градиентного спуска\n",
      "полученный результат W \n",
      " [[-2.05894013e-03]\n",
      " [ 8.54746149e+01]]\n",
      "последняя ошибка -  99.40943795759506,минимальная ошибка 99.40936332407755\n",
      "Количество итераций  - 10000\n",
      "коэф. R2  - 0.9865310069965945\n"
     ]
    }
   ],
   "source": [
    "W_classic, iter_classic = gradient_descent_l1(data,target.reshape(-1,1),k=0.001 )"
   ]
  },
  {
   "cell_type": "code",
   "execution_count": 46,
   "metadata": {},
   "outputs": [
    {
     "name": "stdout",
     "output_type": "stream",
     "text": [
      "Результаты обучения  градиентного спуска\n",
      "полученный результат W \n",
      " [[-1.85286317e-03]\n",
      " [ 8.54832103e+01]]\n",
      "последняя ошибка -  99.17182728832522,минимальная ошибка 99.1718069319093\n",
      "Количество итераций  - 10000\n",
      "коэф. R2  - 0.9865274265212697\n",
      "------------------------------\n",
      "Результаты тестовой выборки\n",
      "Ошибка - 99.8727537300121\n",
      "Коэф  - 0.9865393489211511\n"
     ]
    },
    {
     "data": {
      "image/png": "[encoded data removed]",
      "text/plain": [
       "<Figure size 432x288 with 1 Axes>"
      ]
     },
     "metadata": {
      "needs_background": "light"
     },
     "output_type": "display_data"
    }
   ],
   "source": [
    "check_training_l1(data,k=0.001)"
   ]
  },
  {
   "cell_type": "code",
   "execution_count": null,
   "metadata": {},
   "outputs": [],
   "source": []
  }
 ],
 "metadata": {
  "kernelspec": {
   "display_name": "Python 3",
   "language": "python",
   "name": "python3"
  },
  "language_info": {
   "codemirror_mode": {
    "name": "ipython",
    "version": 3
   },
   "file_extension": ".py",
   "mimetype": "text/x-python",
   "name": "python",
   "nbconvert_exporter": "python",
   "pygments_lexer": "ipython3",
   "version": "3.8.3"
  }
 },
 "nbformat": 4,
 "nbformat_minor": 4
}
