{
 "cells": [
  {
   "cell_type": "code",
   "execution_count": 1,
   "metadata": {},
   "outputs": [],
   "source": [
    "import numpy as np\n",
    "import matplotlib.pyplot as plt\n",
    "import pandas as pd"
   ]
  },
  {
   "cell_type": "code",
   "execution_count": 2,
   "metadata": {},
   "outputs": [],
   "source": [
    "X = np.array([[1, 1, 1, 1, 1, 1, 1, 1, 1, 1],\n",
    "              [1, 1, 2, 1, 3, 0, 5, 10, 1, 2],\n",
    "              [500, 700, 750, 600, 1450,800, 1500, 2000, 450, 1000],\n",
    "              [1, 1, 2, 1, 2, 1, 3, 3, 1, 2]], dtype = np.float64)\n",
    "\n",
    "y = np.array([0, 0, 1, 0, 1, 0, 1, 0, 1, 1], dtype = np.float64)"
   ]
  },
  {
   "cell_type": "code",
   "execution_count": 3,
   "metadata": {},
   "outputs": [],
   "source": [
    "# Приведем матрицы в понятный вид строки наблюжения, столюцы признаки\n",
    "X_st=X.T\n",
    "y_st=y.reshape(-1,1)"
   ]
  },
  {
   "cell_type": "code",
   "execution_count": 4,
   "metadata": {},
   "outputs": [],
   "source": [
    "# Функция стандартизации\n",
    "def calc_std_feat(x):\n",
    "    res = (x - x.mean(axis = 0)) / x.std(axis = 0)\n",
    "    return res"
   ]
  },
  {
   "cell_type": "code",
   "execution_count": 5,
   "metadata": {},
   "outputs": [],
   "source": [
    "# стандартизируем данные\n",
    "X_st[:,1:]= calc_std_feat(X_st[:,1:])"
   ]
  },
  {
   "cell_type": "code",
   "execution_count": 6,
   "metadata": {},
   "outputs": [
    {
     "data": {
      "text/plain": [
       "array([[ 1.        , -0.57142857, -0.97958969, -0.89625816],\n",
       "       [ 1.        , -0.57142857, -0.56713087, -0.89625816],\n",
       "       [ 1.        , -0.21428571, -0.46401617,  0.38411064],\n",
       "       [ 1.        , -0.57142857, -0.77336028, -0.89625816],\n",
       "       [ 1.        ,  0.14285714,  0.97958969,  0.38411064],\n",
       "       [ 1.        , -0.92857143, -0.36090146, -0.89625816],\n",
       "       [ 1.        ,  0.85714286,  1.08270439,  1.66447944],\n",
       "       [ 1.        ,  2.64285714,  2.11385144,  1.66447944],\n",
       "       [ 1.        , -0.57142857, -1.08270439, -0.89625816],\n",
       "       [ 1.        , -0.21428571,  0.05155735,  0.38411064]])"
      ]
     },
     "execution_count": 6,
     "metadata": {},
     "output_type": "execute_result"
    }
   ],
   "source": [
    "X_st"
   ]
  },
  {
   "cell_type": "markdown",
   "metadata": {},
   "source": [
    "Задание 1: Измените функцию calc_logloss так, чтобы нули по возможности не попадали в np.log."
   ]
  },
  {
   "cell_type": "code",
   "execution_count": 7,
   "metadata": {},
   "outputs": [],
   "source": [
    "def calc_logloss(y, y_pred):\n",
    "    y_pred[y_pred==1]=1-1e-16\n",
    "    err = - np.mean(y * np.log(y_pred) + (1.0 - y) * np.log(1.0 - y_pred))\n",
    "    return err"
   ]
  },
  {
   "cell_type": "markdown",
   "metadata": {},
   "source": [
    "В данной функции под логофорифмом, ноль может оказаться лишь в том случае, если y_pred = 0 или 1 . Что невозможно, поскольку y_pred = sigmoid. А выражение 1 / (1 + np.exp(-z)) никогда не принимает 0 или еденицу. Но есть ограничения по количеству знаков после запятой. Если боле 16 девяток, то будет единица. Поэтому отработаем для единицы"
   ]
  },
  {
   "cell_type": "markdown",
   "metadata": {},
   "source": [
    "В данной функции под логофорифмом, ноль может оказаться лишь в том случае, если y_pred = 0 или 1 . Что невозможно, поскольку\n",
    "y_pred = sigmoid. А выражение 1 / (1 + np.exp(-z)) никогда не принимает 0 или еденицу. Таким образом изменений не требуется"
   ]
  },
  {
   "cell_type": "code",
   "execution_count": 8,
   "metadata": {},
   "outputs": [],
   "source": [
    "def sigmoid(z):\n",
    "    res = 1 / (1 + np.exp(-z))\n",
    "    return res"
   ]
  },
  {
   "cell_type": "markdown",
   "metadata": {},
   "source": [
    "Задание 2: Подберите аргументы функции eval_model для логистической регрессии таким образом, чтобы log loss был минимальным."
   ]
  },
  {
   "cell_type": "code",
   "execution_count": 9,
   "metadata": {},
   "outputs": [],
   "source": [
    "def eval_model(X, y, iterations, alpha=1e-4):\n",
    "    np.random.seed(42)\n",
    "    W = np.random.randn(X.shape[1]).reshape(-1,1)\n",
    "    n = X.shape[0]\n",
    "    for i in range(1, iterations+1):\n",
    "        z = np.dot(X, W)\n",
    "        y_pred = sigmoid(z)\n",
    "        err = calc_logloss(y, y_pred)\n",
    "        W -= alpha * (1/n * np.dot(X.T,(y_pred - y)))\n",
    "    return W,err"
   ]
  },
  {
   "cell_type": "code",
   "execution_count": 10,
   "metadata": {},
   "outputs": [],
   "source": [
    "iterations=[10,100,1000,10000,100000,1000000]\n",
    "alpha = [1,0.1,0.01,0.001,0.0001,0.00001]\n",
    "analys = pd.DataFrame({'alpha':alpha})"
   ]
  },
  {
   "cell_type": "code",
   "execution_count": 11,
   "metadata": {},
   "outputs": [],
   "source": [
    "for i in iterations:\n",
    "    data = []\n",
    "    for j in alpha:\n",
    "        data.append(eval_model(X_st,y_st,i,alpha=j)[1])\n",
    "    analys[f'iter_{i}'] = data    "
   ]
  },
  {
   "cell_type": "code",
   "execution_count": 12,
   "metadata": {},
   "outputs": [
    {
     "data": {
      "text/html": [
       "<div>\n",
       "<style scoped>\n",
       "    .dataframe tbody tr th:only-of-type {\n",
       "        vertical-align: middle;\n",
       "    }\n",
       "\n",
       "    .dataframe tbody tr th {\n",
       "        vertical-align: top;\n",
       "    }\n",
       "\n",
       "    .dataframe thead th {\n",
       "        text-align: right;\n",
       "    }\n",
       "</style>\n",
       "<table border=\"1\" class=\"dataframe\">\n",
       "  <thead>\n",
       "    <tr style=\"text-align: right;\">\n",
       "      <th></th>\n",
       "      <th>alpha</th>\n",
       "      <th>iter_10</th>\n",
       "      <th>iter_100</th>\n",
       "      <th>iter_1000</th>\n",
       "      <th>iter_10000</th>\n",
       "      <th>iter_100000</th>\n",
       "      <th>iter_1000000</th>\n",
       "    </tr>\n",
       "  </thead>\n",
       "  <tbody>\n",
       "    <tr>\n",
       "      <th>0</th>\n",
       "      <td>1.00000</td>\n",
       "      <td>0.466800</td>\n",
       "      <td>0.310266</td>\n",
       "      <td>0.179127</td>\n",
       "      <td>0.077703</td>\n",
       "      <td>0.018903</td>\n",
       "      <td>0.001993</td>\n",
       "    </tr>\n",
       "    <tr>\n",
       "      <th>1</th>\n",
       "      <td>0.10000</td>\n",
       "      <td>0.659849</td>\n",
       "      <td>0.461771</td>\n",
       "      <td>0.310088</td>\n",
       "      <td>0.179137</td>\n",
       "      <td>0.077706</td>\n",
       "      <td>0.018903</td>\n",
       "    </tr>\n",
       "    <tr>\n",
       "      <th>2</th>\n",
       "      <td>0.01000</td>\n",
       "      <td>0.752023</td>\n",
       "      <td>0.651970</td>\n",
       "      <td>0.461290</td>\n",
       "      <td>0.310070</td>\n",
       "      <td>0.179138</td>\n",
       "      <td>0.077706</td>\n",
       "    </tr>\n",
       "    <tr>\n",
       "      <th>3</th>\n",
       "      <td>0.00100</td>\n",
       "      <td>0.762652</td>\n",
       "      <td>0.750868</td>\n",
       "      <td>0.651204</td>\n",
       "      <td>0.461242</td>\n",
       "      <td>0.310068</td>\n",
       "      <td>0.179138</td>\n",
       "    </tr>\n",
       "    <tr>\n",
       "      <th>4</th>\n",
       "      <td>0.00010</td>\n",
       "      <td>0.763729</td>\n",
       "      <td>0.762532</td>\n",
       "      <td>0.750753</td>\n",
       "      <td>0.651127</td>\n",
       "      <td>0.461238</td>\n",
       "      <td>0.310068</td>\n",
       "    </tr>\n",
       "    <tr>\n",
       "      <th>5</th>\n",
       "      <td>0.00001</td>\n",
       "      <td>0.763837</td>\n",
       "      <td>0.763717</td>\n",
       "      <td>0.762521</td>\n",
       "      <td>0.750741</td>\n",
       "      <td>0.651120</td>\n",
       "      <td>0.461237</td>\n",
       "    </tr>\n",
       "  </tbody>\n",
       "</table>\n",
       "</div>"
      ],
      "text/plain": [
       "     alpha   iter_10  iter_100  iter_1000  iter_10000  iter_100000  \\\n",
       "0  1.00000  0.466800  0.310266   0.179127    0.077703     0.018903   \n",
       "1  0.10000  0.659849  0.461771   0.310088    0.179137     0.077706   \n",
       "2  0.01000  0.752023  0.651970   0.461290    0.310070     0.179138   \n",
       "3  0.00100  0.762652  0.750868   0.651204    0.461242     0.310068   \n",
       "4  0.00010  0.763729  0.762532   0.750753    0.651127     0.461238   \n",
       "5  0.00001  0.763837  0.763717   0.762521    0.750741     0.651120   \n",
       "\n",
       "   iter_1000000  \n",
       "0      0.001993  \n",
       "1      0.018903  \n",
       "2      0.077706  \n",
       "3      0.179138  \n",
       "4      0.310068  \n",
       "5      0.461237  "
      ]
     },
     "execution_count": 12,
     "metadata": {},
     "output_type": "execute_result"
    }
   ],
   "source": [
    "analys"
   ]
  },
  {
   "cell_type": "markdown",
   "metadata": {},
   "source": [
    "Тенденция такая, что чем больше альфа и чем больше число итераций, тем меньше ошибка"
   ]
  },
  {
   "cell_type": "code",
   "execution_count": 13,
   "metadata": {},
   "outputs": [
    {
     "data": {
      "text/plain": [
       "<matplotlib.legend.Legend at 0x1ad688ac940>"
      ]
     },
     "execution_count": 13,
     "metadata": {},
     "output_type": "execute_result"
    },
    {
     "data": {
      "image/png": "[encoded data removed]",
      "text/plain": [
       "<Figure size 864x576 with 1 Axes>"
      ]
     },
     "metadata": {
      "needs_background": "light"
     },
     "output_type": "display_data"
    }
   ],
   "source": [
    "plt.figure(figsize=(12, 8))\n",
    "plt.grid()\n",
    "plt.xlabel('alpha')\n",
    "plt.ylabel('error')\n",
    "for i in analys.columns[1:]:\n",
    "    plt.plot(analys['alpha'],analys[i], label =i)\n",
    "plt.legend()    "
   ]
  },
  {
   "cell_type": "markdown",
   "metadata": {},
   "source": [
    "Задание 3: Создайте функцию calc_pred_proba, возвращающую предсказанную вероятность класса 1 (на вход подаются W, который уже посчитан функцией eval_model и X, на выходе - массив y_pred_proba)."
   ]
  },
  {
   "cell_type": "code",
   "execution_count": 14,
   "metadata": {},
   "outputs": [],
   "source": [
    "def calc_pred_proba(x,W):\n",
    "    return sigmoid(x@W)"
   ]
  },
  {
   "cell_type": "code",
   "execution_count": 15,
   "metadata": {},
   "outputs": [
    {
     "name": "stdout",
     "output_type": "stream",
     "text": [
      "0.001992505334331929\n",
      "[[ 34.94386912]\n",
      " [-57.21098075]\n",
      " [-90.18866237]\n",
      " [179.1999906 ]]\n"
     ]
    }
   ],
   "source": [
    "w,err = eval_model (X_st,y_st,1000000,alpha=1)\n",
    "\n",
    "print(err)\n",
    "print(w)"
   ]
  },
  {
   "cell_type": "code",
   "execution_count": 16,
   "metadata": {},
   "outputs": [
    {
     "data": {
      "text/plain": [
       "array([[9.70163473e-03],\n",
       "       [6.85032391e-19],\n",
       "       [1.00000000e+00],\n",
       "       [8.19209504e-11],\n",
       "       [9.99294298e-01],\n",
       "       [4.28298199e-18],\n",
       "       [1.00000000e+00],\n",
       "       [1.79113178e-04],\n",
       "       [9.90752077e-01],\n",
       "       [1.00000000e+00]])"
      ]
     },
     "execution_count": 16,
     "metadata": {},
     "output_type": "execute_result"
    }
   ],
   "source": [
    "calc_pred_proba(X_st,w)"
   ]
  },
  {
   "cell_type": "markdown",
   "metadata": {},
   "source": [
    "Задание 4: Создайте функцию calc_pred, возвращающую предсказанный класс (на вход подаются W, который уже посчитан функцией eval_model и X, на выходе - массив y_pred)."
   ]
  },
  {
   "cell_type": "code",
   "execution_count": 17,
   "metadata": {},
   "outputs": [],
   "source": [
    "def calc_pred(x,w):\n",
    "    res = calc_pred_proba(x,w)\n",
    "    res[res>=0.5]=1\n",
    "    res[res!=1]=0\n",
    "    return res"
   ]
  },
  {
   "cell_type": "code",
   "execution_count": 18,
   "metadata": {},
   "outputs": [
    {
     "data": {
      "text/plain": [
       "array([[ True],\n",
       "       [ True],\n",
       "       [ True],\n",
       "       [ True],\n",
       "       [ True],\n",
       "       [ True],\n",
       "       [ True],\n",
       "       [ True],\n",
       "       [ True],\n",
       "       [ True]])"
      ]
     },
     "execution_count": 18,
     "metadata": {},
     "output_type": "execute_result"
    }
   ],
   "source": [
    "y_pred = calc_pred(X_st,w)\n",
    "y_pred==y_st"
   ]
  },
  {
   "cell_type": "markdown",
   "metadata": {},
   "source": [
    "Задание 5: Посчитайте Accuracy, матрицу ошибок, точность и полноту, а также F1 score."
   ]
  },
  {
   "cell_type": "code",
   "execution_count": 19,
   "metadata": {},
   "outputs": [],
   "source": [
    "def accuracy(y,y_pred):\n",
    "    return (y_pred==y).sum()/len(y)\n",
    "    "
   ]
  },
  {
   "cell_type": "code",
   "execution_count": 20,
   "metadata": {},
   "outputs": [
    {
     "data": {
      "text/plain": [
       "1.0"
      ]
     },
     "execution_count": 20,
     "metadata": {},
     "output_type": "execute_result"
    }
   ],
   "source": [
    "accuracy(y_st,y_pred)"
   ]
  },
  {
   "cell_type": "code",
   "execution_count": 33,
   "metadata": {},
   "outputs": [],
   "source": [
    "def matrix_error(y,y_pred):\n",
    "    res = pd.DataFrame({'predict':['positiv','negativ']})\n",
    "    t = y_pred[y==1]\n",
    "    tp = t[t==1]\n",
    "    fn = t[t!=1]\n",
    "    res['positiv'] = [len(tp),len(fn)]\n",
    "    n = y_pred[y!=1]\n",
    "    fp=n[n==1]\n",
    "    tn=n[n!=1]                    \n",
    "    res['negativ'] = [len(fp),len(tn)]\n",
    "    return res\n",
    "    "
   ]
  },
  {
   "cell_type": "code",
   "execution_count": 22,
   "metadata": {},
   "outputs": [
    {
     "data": {
      "text/html": [
       "<div>\n",
       "<style scoped>\n",
       "    .dataframe tbody tr th:only-of-type {\n",
       "        vertical-align: middle;\n",
       "    }\n",
       "\n",
       "    .dataframe tbody tr th {\n",
       "        vertical-align: top;\n",
       "    }\n",
       "\n",
       "    .dataframe thead th {\n",
       "        text-align: right;\n",
       "    }\n",
       "</style>\n",
       "<table border=\"1\" class=\"dataframe\">\n",
       "  <thead>\n",
       "    <tr style=\"text-align: right;\">\n",
       "      <th></th>\n",
       "      <th>predict</th>\n",
       "      <th>positiv</th>\n",
       "      <th>negativ</th>\n",
       "    </tr>\n",
       "  </thead>\n",
       "  <tbody>\n",
       "    <tr>\n",
       "      <th>0</th>\n",
       "      <td>positiv</td>\n",
       "      <td>5</td>\n",
       "      <td>0</td>\n",
       "    </tr>\n",
       "    <tr>\n",
       "      <th>1</th>\n",
       "      <td>negativ</td>\n",
       "      <td>0</td>\n",
       "      <td>5</td>\n",
       "    </tr>\n",
       "  </tbody>\n",
       "</table>\n",
       "</div>"
      ],
      "text/plain": [
       "   predict  positiv  negativ\n",
       "0  positiv        5        0\n",
       "1  negativ        0        5"
      ]
     },
     "execution_count": 22,
     "metadata": {},
     "output_type": "execute_result"
    }
   ],
   "source": [
    "me = matrix_error(y_st,y_pred)\n",
    "me"
   ]
  },
  {
   "cell_type": "code",
   "execution_count": 23,
   "metadata": {},
   "outputs": [
    {
     "data": {
      "text/plain": [
       "1.0"
      ]
     },
     "execution_count": 23,
     "metadata": {},
     "output_type": "execute_result"
    }
   ],
   "source": [
    "# Точность\n",
    "precision = me.iloc[0,1]/(me.iloc[0,1]+me.iloc[0,2])\n",
    "precision"
   ]
  },
  {
   "cell_type": "code",
   "execution_count": 24,
   "metadata": {},
   "outputs": [
    {
     "data": {
      "text/plain": [
       "1.0"
      ]
     },
     "execution_count": 24,
     "metadata": {},
     "output_type": "execute_result"
    }
   ],
   "source": [
    "# полнота\n",
    "recall = me.iloc[0,1]/me['positiv'].sum()\n",
    "recall"
   ]
  },
  {
   "cell_type": "code",
   "execution_count": 25,
   "metadata": {},
   "outputs": [
    {
     "data": {
      "text/plain": [
       "1.0"
      ]
     },
     "execution_count": 25,
     "metadata": {},
     "output_type": "execute_result"
    }
   ],
   "source": [
    "# посчитаем f1\n",
    "f1 = 2*precision*recall/(precision+recall)\n",
    "f1"
   ]
  },
  {
   "cell_type": "markdown",
   "metadata": {},
   "source": [
    "Задание 6: Могла ли модель переобучиться? Почему?"
   ]
  },
  {
   "cell_type": "code",
   "execution_count": 26,
   "metadata": {},
   "outputs": [
    {
     "data": {
      "text/plain": [
       "array([[ 34.94386912],\n",
       "       [-57.21098075],\n",
       "       [-90.18866237],\n",
       "       [179.1999906 ]])"
      ]
     },
     "execution_count": 26,
     "metadata": {},
     "output_type": "execute_result"
    }
   ],
   "source": [
    "w"
   ]
  },
  {
   "cell_type": "markdown",
   "metadata": {},
   "source": [
    "Коэфициенты большие, возможно и было переобучение. Навреное мало данных"
   ]
  },
  {
   "cell_type": "markdown",
   "metadata": {},
   "source": [
    "Задание 7 (опциональное): Создайте функции eval_model_l1 и eval_model_l2 с применением L1 и L2 регуляризаций соответственно."
   ]
  },
  {
   "cell_type": "code",
   "execution_count": 27,
   "metadata": {},
   "outputs": [],
   "source": [
    "def eval_model_l1(X, y, iterations=100000, alpha=0.1,k=0.001):\n",
    "    np.random.seed(42)\n",
    "    W = np.random.randn(X.shape[1]).reshape(-1,1)\n",
    "    n = X.shape[0]\n",
    "    for i in range(1, iterations+1):\n",
    "        z = np.dot(X, W)\n",
    "        y_pred = sigmoid(z)\n",
    "        err = calc_logloss(y, y_pred)\n",
    "        W_delta = np.sign(w)*k\n",
    "        W -= alpha * (1/n * np.dot(X.T,(y_pred - y)))+2*W_delta\n",
    "    return W,err"
   ]
  },
  {
   "cell_type": "code",
   "execution_count": 28,
   "metadata": {},
   "outputs": [
    {
     "data": {
      "text/plain": [
       "(array([[  4.8137121 ],\n",
       "        [ -9.95434358],\n",
       "        [-10.14686056],\n",
       "        [ 23.55199203]]),\n",
       " 0.11404268698941919)"
      ]
     },
     "execution_count": 28,
     "metadata": {},
     "output_type": "execute_result"
    }
   ],
   "source": [
    "W_l1,err_l1 = eval_model_l1(X_st,y_st,iterations=1000000, alpha=1)\n",
    "W_l1,err_l1"
   ]
  },
  {
   "cell_type": "code",
   "execution_count": 29,
   "metadata": {},
   "outputs": [
    {
     "data": {
      "text/plain": [
       "array([[ True],\n",
       "       [ True],\n",
       "       [ True],\n",
       "       [ True],\n",
       "       [ True],\n",
       "       [ True],\n",
       "       [ True],\n",
       "       [ True],\n",
       "       [ True],\n",
       "       [ True]])"
      ]
     },
     "execution_count": 29,
     "metadata": {},
     "output_type": "execute_result"
    }
   ],
   "source": [
    "y_pred_l1 = calc_pred(X_st,W_l1)\n",
    "y_pred_l1==y_st"
   ]
  },
  {
   "cell_type": "code",
   "execution_count": 30,
   "metadata": {},
   "outputs": [],
   "source": [
    "def eval_model_l2(X, y, iterations=100000, alpha=0.1,k=0.0001):\n",
    "    np.random.seed(42)\n",
    "    W = np.random.randn(X.shape[1]).reshape(-1,1)\n",
    "    n = X.shape[0]\n",
    "    for i in range(1, iterations+1):\n",
    "        z = np.dot(X, W)\n",
    "        y_pred = sigmoid(z)\n",
    "        err = calc_logloss(y, y_pred)\n",
    "        W_delta = np.sign(w)*k\n",
    "        W -= alpha * (1/n * np.dot(X.T,(y_pred - y)))+2*k*W\n",
    "    return W,err"
   ]
  },
  {
   "cell_type": "code",
   "execution_count": 31,
   "metadata": {},
   "outputs": [
    {
     "data": {
      "text/plain": [
       "(array([[ 3.97691161],\n",
       "        [-8.51191312],\n",
       "        [-8.33060819],\n",
       "        [19.68509262]]),\n",
       " 0.13250068346458468)"
      ]
     },
     "execution_count": 31,
     "metadata": {},
     "output_type": "execute_result"
    }
   ],
   "source": [
    "W_l2,err_l2 = eval_model_l2(X_st,y_st,iterations=1000000, alpha=1)\n",
    "W_l2,err_l2"
   ]
  },
  {
   "cell_type": "code",
   "execution_count": 32,
   "metadata": {},
   "outputs": [
    {
     "data": {
      "text/plain": [
       "array([[ True],\n",
       "       [ True],\n",
       "       [ True],\n",
       "       [ True],\n",
       "       [ True],\n",
       "       [ True],\n",
       "       [ True],\n",
       "       [ True],\n",
       "       [ True],\n",
       "       [ True]])"
      ]
     },
     "execution_count": 32,
     "metadata": {},
     "output_type": "execute_result"
    }
   ],
   "source": [
    "y_pred_l2 = calc_pred(X_st,W_l2)\n",
    "y_pred_l2 == y_st"
   ]
  },
  {
   "cell_type": "code",
   "execution_count": null,
   "metadata": {},
   "outputs": [],
   "source": []
  }
 ],
 "metadata": {
  "kernelspec": {
   "display_name": "Python 3",
   "language": "python",
   "name": "python3"
  },
  "language_info": {
   "codemirror_mode": {
    "name": "ipython",
    "version": 3
   },
   "file_extension": ".py",
   "mimetype": "text/x-python",
   "name": "python",
   "nbconvert_exporter": "python",
   "pygments_lexer": "ipython3",
   "version": "3.8.3"
  }
 },
 "nbformat": 4,
 "nbformat_minor": 4
}
