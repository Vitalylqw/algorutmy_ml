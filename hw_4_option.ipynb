{
 "cells": [
  {
   "cell_type": "markdown",
   "metadata": {},
   "source": [
    "3 [опция]. Реализуйте дерево для задачи регрессии. Возьмите за основу дерево, реализованное в методичке, заменив механизм предсказания в листе на взятие среднего значения по выборке, и критерий Джини на дисперсию значений."
   ]
  },
  {
   "cell_type": "code",
   "execution_count": 1,
   "metadata": {},
   "outputs": [],
   "source": [
    "import matplotlib.pyplot as plt\n",
    "import random\n",
    "\n",
    "from matplotlib.colors import ListedColormap\n",
    "from sklearn import datasets\n",
    "\n",
    "import numpy as np\n"
   ]
  },
  {
   "cell_type": "code",
   "execution_count": 40,
   "metadata": {},
   "outputs": [],
   "source": [
    "data, target, coef = datasets.make_regression(n_samples=2000, n_features = 1, n_informative = 1, \n",
    "                                                 n_targets = 1, noise = 20, coef = True, random_state = 3)"
   ]
  },
  {
   "cell_type": "code",
   "execution_count": 41,
   "metadata": {},
   "outputs": [],
   "source": [
    "# Разобьем выборку на обучающую и тестовую\n",
    "\n",
    "from sklearn import model_selection\n",
    "\n",
    "train_data, test_data, train_labels, test_labels = model_selection.train_test_split(data, \n",
    "                                                                                     target, \n",
    "                                                                                     test_size = 0.3,\n",
    "                                                                                     random_state = 1)"
   ]
  },
  {
   "cell_type": "code",
   "execution_count": 42,
   "metadata": {},
   "outputs": [
    {
     "data": {
      "image/png": "[encoded data removed]",
      "text/plain": [
       "<Figure size 432x288 with 1 Axes>"
      ]
     },
     "metadata": {
      "needs_background": "light"
     },
     "output_type": "display_data"
    }
   ],
   "source": [
    "plt.scatter(data,target)\n",
    "plt.plot(data,coef*data,color = 'red')\n",
    "plt.show()"
   ]
  },
  {
   "cell_type": "code",
   "execution_count": 43,
   "metadata": {},
   "outputs": [],
   "source": [
    "# Реализуем класс узла\n",
    "\n",
    "class Node:\n",
    "    \n",
    "    def __init__(self, index, t, true_branch, false_branch):\n",
    "        self.index = index  # индекс признака, по которому ведется сравнение с порогом в этом узле\n",
    "        self.t = t  # значение порога\n",
    "        self.true_branch = true_branch  # поддерево, удовлетворяющее условию в узле\n",
    "        self.false_branch = false_branch  # поддерево, не удовлетворяющее условию в узле"
   ]
  },
  {
   "cell_type": "code",
   "execution_count": 8,
   "metadata": {},
   "outputs": [],
   "source": [
    "# И класс терминального узла (листа)\n",
    "\n",
    "class Leaf:\n",
    "    \n",
    "    def __init__(self, data, labels):\n",
    "        self.data = data\n",
    "        self.labels = labels\n",
    "        self.prediction = labels.mean()\n",
    "            "
   ]
  },
  {
   "cell_type": "code",
   "execution_count": 9,
   "metadata": {},
   "outputs": [],
   "source": [
    "# Расчет критерия Джини\n",
    "\n",
    "def critery(labels):\n",
    "        \n",
    "    return labels.var()"
   ]
  },
  {
   "cell_type": "code",
   "execution_count": 13,
   "metadata": {},
   "outputs": [],
   "source": [
    "# Расчет качества\n",
    "def quality(left_labels, right_labels, current_critery):\n",
    "\n",
    "    # доля выбоки, ушедшая в левое поддерево\n",
    "    p = float(left_labels.shape[0]) / (left_labels.shape[0] + right_labels.shape[0])\n",
    "    \n",
    "    return current_critery - p * critery(left_labels) - (1 - p) * critery(right_labels)"
   ]
  },
  {
   "cell_type": "code",
   "execution_count": 14,
   "metadata": {},
   "outputs": [],
   "source": [
    "# Разбиение датасета в узле\n",
    "\n",
    "def split(data, labels, index, t):\n",
    "    \n",
    "    left = np.where(data[:, index] <= t)\n",
    "    right = np.where(data[:, index] > t)\n",
    "        \n",
    "    true_data = data[left]\n",
    "    false_data = data[right]\n",
    "    true_labels = labels[left]\n",
    "    false_labels = labels[right]\n",
    "        \n",
    "    return true_data, false_data, true_labels, false_labels"
   ]
  },
  {
   "cell_type": "code",
   "execution_count": 15,
   "metadata": {},
   "outputs": [],
   "source": [
    "# Нахождение наилучшего разбиения\n",
    "\n",
    "def find_best_split(data, labels):\n",
    "    \n",
    "    #  обозначим минимальное количество объектов в узле\n",
    "    min_leaf = 5\n",
    "\n",
    "    current_critery = critery(labels)\n",
    "\n",
    "    best_quality = 0\n",
    "    best_t = None\n",
    "    best_index = None\n",
    "    \n",
    "    n_features = data.shape[1]\n",
    "    \n",
    "    for index in range(n_features):\n",
    "        # будем проверять только уникальные значения признака, исключая повторения\n",
    "        t_values = np.unique([row[index] for row in data])\n",
    "        \n",
    "        for t in t_values:\n",
    "            true_data, false_data, true_labels, false_labels = split(data, labels, index, t)\n",
    "            #  пропускаем разбиения, в которых в узле остается менее 5 объектов\n",
    "            if len(true_data) < min_leaf or len(false_data) < min_leaf:\n",
    "                continue\n",
    "            \n",
    "            current_quality = quality(true_labels, false_labels, current_critery)\n",
    "            \n",
    "            #  выбираем порог, на котором получается максимальный прирост качества\n",
    "            if current_quality > best_quality:\n",
    "                best_quality, best_t, best_index = current_quality, t, index\n",
    "\n",
    "    return best_quality, best_t, best_index"
   ]
  },
  {
   "cell_type": "code",
   "execution_count": 16,
   "metadata": {},
   "outputs": [],
   "source": [
    "# Построение дерева с помощью рекурсивной функции\n",
    "\n",
    "def build_tree(data, labels):\n",
    "    quality, t, index = find_best_split(data, labels)\n",
    "\n",
    "    #  Базовый случай - прекращаем рекурсию, когда нет прироста в качества\n",
    "    if quality == 0:\n",
    "        return Leaf(data, labels)\n",
    "\n",
    "    true_data, false_data, true_labels, false_labels = split(data, labels, index, t)\n",
    "\n",
    "    # Рекурсивно строим два поддерева\n",
    "    true_branch = build_tree(true_data, true_labels)\n",
    "    false_branch = build_tree(false_data, false_labels)\n",
    "\n",
    "    # Возвращаем класс узла со всеми поддеревьями, то есть целого дерева\n",
    "    return Node(index, t, true_branch, false_branch)"
   ]
  },
  {
   "cell_type": "code",
   "execution_count": 17,
   "metadata": {},
   "outputs": [],
   "source": [
    "def classify_object(obj, node):\n",
    "\n",
    "    #  Останавливаем рекурсию, если достигли листа\n",
    "    if isinstance(node, Leaf):\n",
    "        answer = node.prediction\n",
    "        return answer\n",
    "\n",
    "    if obj[node.index] <= node.t:\n",
    "        return classify_object(obj, node.true_branch)\n",
    "    else:\n",
    "        return classify_object(obj, node.false_branch)"
   ]
  },
  {
   "cell_type": "code",
   "execution_count": 18,
   "metadata": {},
   "outputs": [],
   "source": [
    "def predict(data, tree):\n",
    "    \n",
    "    classes = []\n",
    "    for obj in data:\n",
    "        prediction = classify_object(obj, tree)\n",
    "        classes.append(prediction)\n",
    "    return classes"
   ]
  },
  {
   "cell_type": "code",
   "execution_count": 20,
   "metadata": {},
   "outputs": [],
   "source": [
    "# Напечатаем ход нашего дерева\n",
    "def print_tree(node, spacing=\"\"):\n",
    "\n",
    "    # Если лист, то выводим его прогноз\n",
    "    if isinstance(node, Leaf):\n",
    "        print(spacing + \"Прогноз:\", node.prediction)\n",
    "        return\n",
    "\n",
    "    # Выведем значение индекса и порога на этом узле\n",
    "    print(spacing + 'Индекс', str(node.index))\n",
    "    print(spacing + 'Порог', str(node.t))\n",
    "\n",
    "    # Рекурсионный вызов функции на положительном поддереве\n",
    "    print (spacing + '--> True:')\n",
    "    print_tree(node.true_branch, spacing + \"  \")\n",
    "\n",
    "    # Рекурсионный вызов функции на положительном поддереве\n",
    "    print (spacing + '--> False:')\n",
    "    print_tree(node.false_branch, spacing + \"  \")\n",
    "    "
   ]
  },
  {
   "cell_type": "code",
   "execution_count": 28,
   "metadata": {},
   "outputs": [],
   "source": [
    "# Коэф детерминации\n",
    "def R2(y_pred,y):\n",
    "    return 1- ((y_pred - y)**2).sum()/((y-y.mean())**2).sum()"
   ]
  },
  {
   "cell_type": "code",
   "execution_count": 22,
   "metadata": {},
   "outputs": [],
   "source": [
    "# подсчитаем максимальную глубину дерева\n",
    "def depth_tree(node,n=1):\n",
    "\n",
    "    # Если лист, то выводим глубину долиста\n",
    "    if isinstance(node, Leaf):   \n",
    "        return n\n",
    "    \n",
    "    # Рекурсионный вызов функции на положительном поддереве\n",
    "    l = depth_tree(node.true_branch, n=n+1)\n",
    "\n",
    "    # Рекурсионный вызов функции на положительном поддереве\n",
    "    m =  depth_tree(node.false_branch, n=n+1)\n",
    "    return l,m"
   ]
  },
  {
   "cell_type": "code",
   "execution_count": 44,
   "metadata": {},
   "outputs": [],
   "source": [
    "my_tree = build_tree(train_data, train_labels)"
   ]
  },
  {
   "cell_type": "code",
   "execution_count": 45,
   "metadata": {},
   "outputs": [
    {
     "data": {
      "text/plain": [
       "((((5, (6, 6)),\n",
       "   (((7, (8, 8)),\n",
       "     ((((((((((16,\n",
       "               (((19, 19),\n",
       "                 ((20, 20),\n",
       "                  (((22, 22),\n",
       "                    (((((26, (27, (28, (29, 29)))),\n",
       "                        ((((29, (30, 30)),\n",
       "                           ((30, ((32, 32), (32, (33, (34, (35, 35)))))),\n",
       "                            ((((33, (34, (35, 35))),\n",
       "                               ((34,\n",
       "                                 (35,\n",
       "                                  ((37, (38, (39, (40, 40)))),\n",
       "                                   ((38, (39, 39)),\n",
       "                                    ((((41, 41),\n",
       "                                       (41,\n",
       "                                        (((44, 44),\n",
       "                                          (44, (45, (46, (47, 47))))),\n",
       "                                         ((44, 44),\n",
       "                                          (44,\n",
       "                                           ((46, 46),\n",
       "                                            ((47, (48, (49, 49))),\n",
       "                                             (((49, (50, 50)), 48),\n",
       "                                              (48,\n",
       "                                               (49,\n",
       "                                                (((((54, (55, 55)),\n",
       "                                                    ((55, 55),\n",
       "                                                     (((57, (58, 58)), 56),\n",
       "                                                      ((57, 57),\n",
       "                                                       (((59, (60, 60)), 58),\n",
       "                                                        (58,\n",
       "                                                         ((60, 60),\n",
       "                                                          ((((63, (64, 64)),\n",
       "                                                             (63,\n",
       "                                                              (64,\n",
       "                                                               (65,\n",
       "                                                                ((67,\n",
       "                                                                  (68, 68)),\n",
       "                                                                 ((68,\n",
       "                                                                   (69,\n",
       "                                                                    (70, 70))),\n",
       "                                                                  67)))))),\n",
       "                                                            61),\n",
       "                                                           (61,\n",
       "                                                            (62, 62)))))))))),\n",
       "                                                   (53, (54, (55, 55)))),\n",
       "                                                  (52, (53, 53))),\n",
       "                                                 (51, (52, 52))))))))))))),\n",
       "                                      (40, (41, 41))),\n",
       "                                     (39, 39)))))),\n",
       "                                (34, (35, 35)))),\n",
       "                              31),\n",
       "                             (31, (32, (33, (34, 34))))))),\n",
       "                          27),\n",
       "                         26)),\n",
       "                       ((26, (27, 27)), (26, (27, (28, 28))))),\n",
       "                      (24, (25, (26, (27, 27))))),\n",
       "                     (23, 23))),\n",
       "                   (21, 21)))),\n",
       "                (18, (19, 19)))),\n",
       "              ((17, (18, 18)), 16)),\n",
       "             (15, 15)),\n",
       "            (14, (15, 15))),\n",
       "           (13, (14, 14))),\n",
       "          (12, (13, 13))),\n",
       "         (11, (12, 12))),\n",
       "        (10, (11, (12, (13, 13))))),\n",
       "       8),\n",
       "      (8, (9, 9)))),\n",
       "    (6, (7, 7)))),\n",
       "  ((5, (6, (7, 7))), 4)),\n",
       " (3, 3))"
      ]
     },
     "execution_count": 45,
     "metadata": {},
     "output_type": "execute_result"
    }
   ],
   "source": [
    "depth_tree(my_tree)"
   ]
  },
  {
   "cell_type": "code",
   "execution_count": 46,
   "metadata": {},
   "outputs": [
    {
     "name": "stdout",
     "output_type": "stream",
     "text": [
      "Дерево без ограничений : Качество на обучаеющей выборке 0.9002147784705588, качество на тесовой выборке 0.8704181155818612\n"
     ]
    }
   ],
   "source": [
    "# Изучим качество  ответов для обучающей и тестовой выборки по дереву без ограничения\n",
    "train_answers = predict(train_data, my_tree)\n",
    "answers = predict(test_data, my_tree)\n",
    "train_accuracy = tr_nolimit_dgini =R2(train_answers,train_labels)\n",
    "test_accuracy = test_nolimit_dgini=R2(answers,test_labels)\n",
    "print (f'Дерево без ограничений : Качество на обучаеющей выборке {train_accuracy}, качество на тесовой выборке {test_accuracy}')"
   ]
  },
  {
   "cell_type": "code",
   "execution_count": 51,
   "metadata": {},
   "outputs": [],
   "source": [
    "# Создадим функцию с лимитом дерева\n",
    "def build_tree_limit(data, labels,limit):\n",
    "    limit-=1\n",
    "    quality, t, index = find_best_split(data, labels)\n",
    "\n",
    "    #  Базовый случай - прекращаем рекурсию, когда нет прироста в качества\n",
    "    if quality == 0 or limit == 0:\n",
    "        return Leaf(data, labels)\n",
    "\n",
    "    true_data, false_data, true_labels, false_labels = split(data, labels, index, t)\n",
    "\n",
    "    # Рекурсивно строим два поддерева\n",
    "    true_branch = build_tree_limit(true_data, true_labels,limit)\n",
    "    false_branch = build_tree_limit(false_data, false_labels,limit)\n",
    "\n",
    "    # Возвращаем класс узла со всеми поддеревьями, то есть целого дерева\n",
    "    return Node(index, t, true_branch, false_branch)"
   ]
  },
  {
   "cell_type": "code",
   "execution_count": 63,
   "metadata": {},
   "outputs": [
    {
     "name": "stdout",
     "output_type": "stream",
     "text": [
      "Дерево c ограниченим на 5 . Качество на обучаеющей выборке 0.3133292663137208, качество на тесовой выборке 0.2312140503942861\n",
      "Дерево c ограниченим на 10 . Качество на обучаеющей выборке 0.49339277727986897, качество на тесовой выборке 0.431506729985644\n",
      "Дерево c ограниченим на 15 . Качество на обучаеющей выборке 0.5999605671778336, качество на тесовой выборке 0.5429524545476568\n",
      "Дерево c ограниченим на 20 . Качество на обучаеющей выборке 0.6746549141775617, качество на тесовой выборке 0.628938453490427\n",
      "Дерево c ограниченим на 25 . Качество на обучаеющей выборке 0.7654392779210744, качество на тесовой выборке 0.7274723336975965\n",
      "Дерево c ограниченим на 30 . Качество на обучаеющей выборке 0.8283521935275505, качество на тесовой выборке 0.7997016929620777\n",
      "Дерево c ограниченим на 35 . Качество на обучаеющей выборке 0.8507501481887092, качество на тесовой выборке 0.8208756281814524\n",
      "Дерево c ограниченим на 40 . Качество на обучаеющей выборке 0.8730862443164298, качество на тесовой выборке 0.847742829289983\n",
      "Дерево c ограниченим на 45 . Качество на обучаеющей выборке 0.8822725662014954, качество на тесовой выборке 0.8540312172375399\n",
      "Дерево c ограниченим на 50 . Качество на обучаеющей выборке 0.8877142411000636, качество на тесовой выборке 0.8616088724480213\n",
      "Дерево c ограниченим на 55 . Качество на обучаеющей выборке 0.895068517436725, качество на тесовой выборке 0.8688114026683156\n",
      "Дерево c ограниченим на 60 . Качество на обучаеющей выборке 0.8973198479983251, качество на тесовой выборке 0.8709352134485461\n",
      "Дерево c ограниченим на 65 . Качество на обучаеющей выборке 0.8988214678013791, качество на тесовой выборке 0.8709239195952788\n",
      "Дерево c ограниченим на 70 . Качество на обучаеющей выборке 0.9002147784705588, качество на тесовой выборке 0.8704181155818612\n"
     ]
    }
   ],
   "source": [
    "for i in range(5,71,5):\n",
    "    my_tree_limit = build_tree_limit(train_data, train_labels,i)\n",
    "    train_answers = predict(train_data, my_tree_limit)\n",
    "    answers = predict(test_data, my_tree_limit)\n",
    "    train_accuracy = tr_limit_dgini=R2(train_answers,train_labels )\n",
    "    test_accuracy = test_limit_dgini =R2(answers,test_labels )\n",
    "    print (f'Дерево c ограниченим на {i} . Качество на обучаеющей выборке {train_accuracy}, качество на тесовой выборке {test_accuracy}')\n"
   ]
  },
  {
   "cell_type": "code",
   "execution_count": null,
   "metadata": {},
   "outputs": [],
   "source": []
  }
 ],
 "metadata": {
  "kernelspec": {
   "display_name": "Python 3",
   "language": "python",
   "name": "python3"
  },
  "language_info": {
   "codemirror_mode": {
    "name": "ipython",
    "version": 3
   },
   "file_extension": ".py",
   "mimetype": "text/x-python",
   "name": "python",
   "nbconvert_exporter": "python",
   "pygments_lexer": "ipython3",
   "version": "3.8.3"
  }
 },
 "nbformat": 4,
 "nbformat_minor": 4
}
